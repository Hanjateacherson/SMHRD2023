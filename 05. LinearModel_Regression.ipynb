{
 "cells": [
  {
   "cell_type": "markdown",
   "id": "c9629ff2",
   "metadata": {},
   "source": [
    "### 목표\n",
    "- 선형회귀 이론에 대해 이해해보자\n",
    "- LinearModel을 사용해보자!"
   ]
  },
  {
   "cell_type": "code",
   "execution_count": 10,
   "id": "c6fd6fab",
   "metadata": {},
   "outputs": [
    {
     "data": {
      "text/html": [
       "<div>\n",
       "<style scoped>\n",
       "    .dataframe tbody tr th:only-of-type {\n",
       "        vertical-align: middle;\n",
       "    }\n",
       "\n",
       "    .dataframe tbody tr th {\n",
       "        vertical-align: top;\n",
       "    }\n",
       "\n",
       "    .dataframe thead th {\n",
       "        text-align: right;\n",
       "    }\n",
       "</style>\n",
       "<table border=\"1\" class=\"dataframe\">\n",
       "  <thead>\n",
       "    <tr style=\"text-align: right;\">\n",
       "      <th></th>\n",
       "      <th>시간</th>\n",
       "      <th>성적</th>\n",
       "    </tr>\n",
       "  </thead>\n",
       "  <tbody>\n",
       "    <tr>\n",
       "      <th>교인</th>\n",
       "      <td>2</td>\n",
       "      <td>20</td>\n",
       "    </tr>\n",
       "    <tr>\n",
       "      <th>홍철</th>\n",
       "      <td>4</td>\n",
       "      <td>40</td>\n",
       "    </tr>\n",
       "    <tr>\n",
       "      <th>상석</th>\n",
       "      <td>8</td>\n",
       "      <td>80</td>\n",
       "    </tr>\n",
       "    <tr>\n",
       "      <th>승철</th>\n",
       "      <td>9</td>\n",
       "      <td>90</td>\n",
       "    </tr>\n",
       "  </tbody>\n",
       "</table>\n",
       "</div>"
      ],
      "text/plain": [
       "    시간  성적\n",
       "교인   2  20\n",
       "홍철   4  40\n",
       "상석   8  80\n",
       "승철   9  90"
      ]
     },
     "execution_count": 10,
     "metadata": {},
     "output_type": "execute_result"
    }
   ],
   "source": [
    "import numpy as np\n",
    "import pandas as pd\n",
    "import matplotlib.pyplot as plt\n",
    "# 데이터 생성\n",
    "data = pd.DataFrame({'시간': [2,4,8,9], '성적':[20,40,80,90]},\n",
    "                    index = ['교인','홍철','상석','승철'])\n",
    "data"
   ]
  },
  {
   "cell_type": "markdown",
   "id": "d6944e59",
   "metadata": {},
   "source": [
    "### 선형모델을 활용\n",
    "- 7시간 공부했을때의 성적 예측"
   ]
  },
  {
   "cell_type": "code",
   "execution_count": 2,
   "id": "31b42309",
   "metadata": {},
   "outputs": [],
   "source": [
    "# 수학공식을 활용한 해석적 방법 -> mse 를 가지고 찾아가는 방법\n",
    "# 모델 불러오기\n",
    "from sklearn.linear_model import LinearRegression"
   ]
  },
  {
   "cell_type": "code",
   "execution_count": 3,
   "id": "99c5e9d6",
   "metadata": {},
   "outputs": [],
   "source": [
    "# 모델 객체생성\n",
    "linear_model = LinearRegression()"
   ]
  },
  {
   "cell_type": "code",
   "execution_count": 9,
   "id": "15886606",
   "metadata": {},
   "outputs": [
    {
     "data": {
      "text/html": [
       "<style>#sk-container-id-1 {color: black;}#sk-container-id-1 pre{padding: 0;}#sk-container-id-1 div.sk-toggleable {background-color: white;}#sk-container-id-1 label.sk-toggleable__label {cursor: pointer;display: block;width: 100%;margin-bottom: 0;padding: 0.3em;box-sizing: border-box;text-align: center;}#sk-container-id-1 label.sk-toggleable__label-arrow:before {content: \"▸\";float: left;margin-right: 0.25em;color: #696969;}#sk-container-id-1 label.sk-toggleable__label-arrow:hover:before {color: black;}#sk-container-id-1 div.sk-estimator:hover label.sk-toggleable__label-arrow:before {color: black;}#sk-container-id-1 div.sk-toggleable__content {max-height: 0;max-width: 0;overflow: hidden;text-align: left;background-color: #f0f8ff;}#sk-container-id-1 div.sk-toggleable__content pre {margin: 0.2em;color: black;border-radius: 0.25em;background-color: #f0f8ff;}#sk-container-id-1 input.sk-toggleable__control:checked~div.sk-toggleable__content {max-height: 200px;max-width: 100%;overflow: auto;}#sk-container-id-1 input.sk-toggleable__control:checked~label.sk-toggleable__label-arrow:before {content: \"▾\";}#sk-container-id-1 div.sk-estimator input.sk-toggleable__control:checked~label.sk-toggleable__label {background-color: #d4ebff;}#sk-container-id-1 div.sk-label input.sk-toggleable__control:checked~label.sk-toggleable__label {background-color: #d4ebff;}#sk-container-id-1 input.sk-hidden--visually {border: 0;clip: rect(1px 1px 1px 1px);clip: rect(1px, 1px, 1px, 1px);height: 1px;margin: -1px;overflow: hidden;padding: 0;position: absolute;width: 1px;}#sk-container-id-1 div.sk-estimator {font-family: monospace;background-color: #f0f8ff;border: 1px dotted black;border-radius: 0.25em;box-sizing: border-box;margin-bottom: 0.5em;}#sk-container-id-1 div.sk-estimator:hover {background-color: #d4ebff;}#sk-container-id-1 div.sk-parallel-item::after {content: \"\";width: 100%;border-bottom: 1px solid gray;flex-grow: 1;}#sk-container-id-1 div.sk-label:hover label.sk-toggleable__label {background-color: #d4ebff;}#sk-container-id-1 div.sk-serial::before {content: \"\";position: absolute;border-left: 1px solid gray;box-sizing: border-box;top: 0;bottom: 0;left: 50%;z-index: 0;}#sk-container-id-1 div.sk-serial {display: flex;flex-direction: column;align-items: center;background-color: white;padding-right: 0.2em;padding-left: 0.2em;position: relative;}#sk-container-id-1 div.sk-item {position: relative;z-index: 1;}#sk-container-id-1 div.sk-parallel {display: flex;align-items: stretch;justify-content: center;background-color: white;position: relative;}#sk-container-id-1 div.sk-item::before, #sk-container-id-1 div.sk-parallel-item::before {content: \"\";position: absolute;border-left: 1px solid gray;box-sizing: border-box;top: 0;bottom: 0;left: 50%;z-index: -1;}#sk-container-id-1 div.sk-parallel-item {display: flex;flex-direction: column;z-index: 1;position: relative;background-color: white;}#sk-container-id-1 div.sk-parallel-item:first-child::after {align-self: flex-end;width: 50%;}#sk-container-id-1 div.sk-parallel-item:last-child::after {align-self: flex-start;width: 50%;}#sk-container-id-1 div.sk-parallel-item:only-child::after {width: 0;}#sk-container-id-1 div.sk-dashed-wrapped {border: 1px dashed gray;margin: 0 0.4em 0.5em 0.4em;box-sizing: border-box;padding-bottom: 0.4em;background-color: white;}#sk-container-id-1 div.sk-label label {font-family: monospace;font-weight: bold;display: inline-block;line-height: 1.2em;}#sk-container-id-1 div.sk-label-container {text-align: center;}#sk-container-id-1 div.sk-container {/* jupyter's `normalize.less` sets `[hidden] { display: none; }` but bootstrap.min.css set `[hidden] { display: none !important; }` so we also need the `!important` here to be able to override the default hidden behavior on the sphinx rendered scikit-learn.org. See: https://github.com/scikit-learn/scikit-learn/issues/21755 */display: inline-block !important;position: relative;}#sk-container-id-1 div.sk-text-repr-fallback {display: none;}</style><div id=\"sk-container-id-1\" class=\"sk-top-container\"><div class=\"sk-text-repr-fallback\"><pre>LinearRegression()</pre><b>In a Jupyter environment, please rerun this cell to show the HTML representation or trust the notebook. <br />On GitHub, the HTML representation is unable to render, please try loading this page with nbviewer.org.</b></div><div class=\"sk-container\" hidden><div class=\"sk-item\"><div class=\"sk-estimator sk-toggleable\"><input class=\"sk-toggleable__control sk-hidden--visually\" id=\"sk-estimator-id-1\" type=\"checkbox\" checked><label for=\"sk-estimator-id-1\" class=\"sk-toggleable__label sk-toggleable__label-arrow\">LinearRegression</label><div class=\"sk-toggleable__content\"><pre>LinearRegression()</pre></div></div></div></div></div>"
      ],
      "text/plain": [
       "LinearRegression()"
      ]
     },
     "execution_count": 9,
     "metadata": {},
     "output_type": "execute_result"
    }
   ],
   "source": [
    "# 모델학습\n",
    "# model.fit(학습용문제, 학습용정답)\n",
    "# model.fit(시간, 성적)\n",
    "# 문제 > 2차원, 정답 > 1차원\n",
    "data[['시간']]\n",
    "data['성적']\n",
    "linear_model.fit(data[['시간']],data['성적'])\n",
    "# 최적의 직선을 그려본것!"
   ]
  },
  {
   "cell_type": "code",
   "execution_count": 11,
   "id": "f393a562",
   "metadata": {},
   "outputs": [
    {
     "name": "stdout",
     "output_type": "stream",
     "text": [
      "가중치(w): [10.]\n",
      "절편(b): 7.105427357601002e-15\n"
     ]
    }
   ],
   "source": [
    "# 우리가 스스로 예측한 예상 직선 > y = 10x\n",
    "# 모델이 예측한 직선을 확인 (y = wx + b)\n",
    "print('가중치(w):', linear_model.coef_)\n",
    "print('절편(b):', linear_model.intercept_)\n",
    "# 부동소수점 > 소수점을 앞으로 15번 이동 > 거의 0과 같음\n",
    "# y = 10 x + 0"
   ]
  },
  {
   "cell_type": "code",
   "execution_count": 12,
   "id": "2180cb43",
   "metadata": {},
   "outputs": [
    {
     "name": "stderr",
     "output_type": "stream",
     "text": [
      "C:\\Users\\smhrd\\anaconda3\\Lib\\site-packages\\sklearn\\base.py:464: UserWarning: X does not have valid feature names, but LinearRegression was fitted with feature names\n",
      "  warnings.warn(\n"
     ]
    },
    {
     "data": {
      "text/plain": [
       "array([70.])"
      ]
     },
     "execution_count": 12,
     "metadata": {},
     "output_type": "execute_result"
    }
   ],
   "source": [
    "# 모델 예측\n",
    "# model.predict(테스트용문제) > 문제데이터 2차원\n",
    "# 7시간 공부했을때 성적은?\n",
    "linear_model.predict([[7]])"
   ]
  },
  {
   "cell_type": "markdown",
   "id": "77b6133d",
   "metadata": {},
   "source": [
    "##### 경사하강법 그래프 그려보기\n",
    "- 선형모델의 MSE(평균제곱오차)가 최소가 되는 W,B값을 찾아나가는 방법\n",
    "- 가중치(w) 변화에 따른 비용함수(cost) 값의 변화그래프 출력\n",
    "    - 비용함수는 원래의 값과 가장 오차가 작은 함수를 도출하기위해 사용되는 함수"
   ]
  },
  {
   "cell_type": "code",
   "execution_count": 13,
   "id": "44592170",
   "metadata": {},
   "outputs": [],
   "source": [
    "# 가설 함수 설정\n",
    "def h(w,x):\n",
    "    return w*x + 0\n",
    "# 우리가 w 값이 달라질경우 계속해서 다른수로 바꿔주어야한다!"
   ]
  },
  {
   "cell_type": "code",
   "execution_count": 14,
   "id": "5d1bcdd8",
   "metadata": {},
   "outputs": [],
   "source": [
    "# 비용함수 설정 (MSE)\n",
    "def cost (data, target, weight):\n",
    "    # data: 예측할 데이터의 x값, target: 실제답, weight : 가중치\n",
    "    y_pre = h(weight, data)\n",
    "    mse = ((y_pre-target)**2).mean()  # (예측값-실제값)\n",
    "    return mse"
   ]
  },
  {
   "cell_type": "code",
   "execution_count": 15,
   "id": "722a6384",
   "metadata": {},
   "outputs": [
    {
     "data": {
      "text/plain": [
       "0.0"
      ]
     },
     "execution_count": 15,
     "metadata": {},
     "output_type": "execute_result"
    }
   ],
   "source": [
    "# 우리가 예측한 가중치가 10일때 MSE\n",
    "cost(data['시간'], data['성적'], 10)\n",
    "# 오차가 0"
   ]
  },
  {
   "cell_type": "code",
   "execution_count": 17,
   "id": "bf3dabff",
   "metadata": {},
   "outputs": [
    {
     "data": {
      "text/plain": [
       "1031.25"
      ]
     },
     "execution_count": 17,
     "metadata": {},
     "output_type": "execute_result"
    }
   ],
   "source": [
    "# 가중치가 5일때\n",
    "cost(data['시간'], data['성적'], 5)"
   ]
  },
  {
   "cell_type": "code",
   "execution_count": 18,
   "id": "99eb6c42",
   "metadata": {},
   "outputs": [
    {
     "data": {
      "text/plain": [
       "1031.25"
      ]
     },
     "execution_count": 18,
     "metadata": {},
     "output_type": "execute_result"
    }
   ],
   "source": [
    "# 가중치 15\n",
    "cost(data['시간'], data['성적'], 15)"
   ]
  },
  {
   "cell_type": "code",
   "execution_count": 19,
   "id": "3e119429",
   "metadata": {},
   "outputs": [
    {
     "data": {
      "text/plain": [
       "165.0"
      ]
     },
     "execution_count": 19,
     "metadata": {},
     "output_type": "execute_result"
    }
   ],
   "source": [
    "# 가중치 12\n",
    "cost(data['시간'], data['성적'], 12)"
   ]
  },
  {
   "cell_type": "markdown",
   "id": "0fb619a4",
   "metadata": {},
   "source": [
    "- w(가중치) 값의 변화에 따른 MSE 변화율 그래프 그리기 > 경사하강법"
   ]
  },
  {
   "cell_type": "code",
   "execution_count": 20,
   "id": "6a5430f0",
   "metadata": {},
   "outputs": [],
   "source": [
    "w_arr = range(-10,31) # -10~30"
   ]
  },
  {
   "cell_type": "code",
   "execution_count": 21,
   "id": "2be7ee86",
   "metadata": {
    "collapsed": true
   },
   "outputs": [
    {
     "data": {
      "text/plain": [
       "[16500.0,\n",
       " 14891.25,\n",
       " 13365.0,\n",
       " 11921.25,\n",
       " 10560.0,\n",
       " 9281.25,\n",
       " 8085.0,\n",
       " 6971.25,\n",
       " 5940.0,\n",
       " 4991.25,\n",
       " 4125.0,\n",
       " 3341.25,\n",
       " 2640.0,\n",
       " 2021.25,\n",
       " 1485.0,\n",
       " 1031.25,\n",
       " 660.0,\n",
       " 371.25,\n",
       " 165.0,\n",
       " 41.25,\n",
       " 0.0,\n",
       " 41.25,\n",
       " 165.0,\n",
       " 371.25,\n",
       " 660.0,\n",
       " 1031.25,\n",
       " 1485.0,\n",
       " 2021.25,\n",
       " 2640.0,\n",
       " 3341.25,\n",
       " 4125.0,\n",
       " 4991.25,\n",
       " 5940.0,\n",
       " 6971.25,\n",
       " 8085.0,\n",
       " 9281.25,\n",
       " 10560.0,\n",
       " 11921.25,\n",
       " 13365.0,\n",
       " 14891.25,\n",
       " 16500.0]"
      ]
     },
     "execution_count": 21,
     "metadata": {},
     "output_type": "execute_result"
    }
   ],
   "source": [
    "# 반복문을 사용해서 -10~30 까지의 mse 를 구해서 리스트에 담기\n",
    "cost_list = []\n",
    "for w in w_arr:\n",
    "    c = cost(data['시간'], data['성적'], w)\n",
    "    cost_list.append(c)\n",
    "cost_list"
   ]
  },
  {
   "cell_type": "code",
   "execution_count": 24,
   "id": "fe6cc7b8",
   "metadata": {},
   "outputs": [
    {
     "data": {
      "image/png": "[encoded data removed]",
      "text/plain": [
       "<Figure size 200x200 with 1 Axes>"
      ]
     },
     "metadata": {},
     "output_type": "display_data"
    }
   ],
   "source": [
    "# 그래프 그리기\n",
    "plt.figure(figsize = (2,2))\n",
    "plt.plot(w_arr,cost_list) # (x축, y축)\n",
    "plt.xlabel('w')\n",
    "plt.ylabel('cost')\n",
    "plt.show()"
   ]
  },
  {
   "cell_type": "code",
   "execution_count": null,
   "id": "5f80c42a",
   "metadata": {},
   "outputs": [],
   "source": []
  },
  {
   "cell_type": "code",
   "execution_count": null,
   "id": "69d4f0c0",
   "metadata": {},
   "outputs": [],
   "source": []
  },
  {
   "cell_type": "code",
   "execution_count": null,
   "id": "95aa4dc7",
   "metadata": {},
   "outputs": [],
   "source": []
  }
 ],
 "metadata": {
  "kernelspec": {
   "display_name": "Python 3 (ipykernel)",
   "language": "python",
   "name": "python3"
  },
  "language_info": {
   "codemirror_mode": {
    "name": "ipython",
    "version": 3
   },
   "file_extension": ".py",
   "mimetype": "text/x-python",
   "name": "python",
   "nbconvert_exporter": "python",
   "pygments_lexer": "ipython3",
   "version": "3.11.5"
  }
 },
 "nbformat": 4,
 "nbformat_minor": 5
}
