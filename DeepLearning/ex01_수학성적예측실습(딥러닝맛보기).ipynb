{
  "nbformat": 4,
  "nbformat_minor": 0,
  "metadata": {
    "colab": {
      "provenance": []
    },
    "kernelspec": {
      "name": "python3",
      "display_name": "Python 3"
    },
    "language_info": {
      "name": "python"
    }
  },
  "cells": [
    {
      "cell_type": "code",
      "execution_count": 1,
      "metadata": {
        "id": "vuSgwPQDQ81o",
        "colab": {
          "base_uri": "https://localhost:8080/"
        },
        "outputId": "76358998-85ba-4c1d-94dc-469eff173651"
      },
      "outputs": [
        {
          "output_type": "stream",
          "name": "stdout",
          "text": [
            "딥러닝 시작!\n"
          ]
        }
      ],
      "source": [
        "print('딥러닝 시작!')\n",
        "\n",
        "# 실행 단축키: ctrl + enter (현재 셀 실행, 커서는 그대로 멈춤)\n",
        "#              shift + enter (현재 셀 실행하고 커서를 다음 셀로 이동)"
      ]
    },
    {
      "cell_type": "code",
      "source": [
        "# 셀 아래로 추가 ctrl + m + b\n",
        "# 셀 위로 추가 ctrl + m + a\n",
        "# 셀 삭제 ctrl + m + d\n",
        "# 셀 삭제 다시 되돌리기 ctrl + m + z\n",
        "# 마크다운 전환 ctrl + m + m (m 꾹 누르면)\n",
        "# 코드 모드 전환(에디트 모드) ctrl + m + y\n",
        "# 동일 단어 한꺼번에 선택 ctrl + shift + l(엘)"
      ],
      "metadata": {
        "id": "SVLouqR0XgeQ"
      },
      "execution_count": null,
      "outputs": []
    },
    {
      "cell_type": "code",
      "source": [
        "# 내 드라이브 > 코랩 폴더 > 딥러닝 > 데이터 폴더 > 데이터 파일 접근\n",
        "# 데이터 접근 쉽게 할 수 있게 경로 변경\n",
        "%pwd\n",
        "# /content 구글 드라이브 보다 최상단의 개념\n",
        "#\n",
        "# pd.read_csv('/content/drive/MyDrive/Colab Notebooks/24.03.25 DeepLearning(원호)/data/student-mat.csv')\n",
        "# 경로 이동\n",
        "%cd /content/drive/MyDrive/Colab Notebooks/24.03.25 DeepLearning(원호)"
      ],
      "metadata": {
        "id": "21kt0i-lXq9_",
        "colab": {
          "base_uri": "https://localhost:8080/"
        },
        "outputId": "46782f6e-19a7-4294-eac8-29fe0ce788b5"
      },
      "execution_count": 3,
      "outputs": [
        {
          "output_type": "stream",
          "name": "stdout",
          "text": [
            "/content/drive/MyDrive/Colab Notebooks/24.03.25 DeepLearning(원호)\n"
          ]
        }
      ]
    },
    {
      "cell_type": "markdown",
      "source": [
        "### 목표\n",
        " - 학생 수학 성적 데이터를 활용하여 수치(값)을 예측하는 회귀 모델을 만들어보자!\n",
        " - tensorflow.keras 활용해서 인공 신경망 모델을 구성하는 방법을 살펴보자!"
      ],
      "metadata": {
        "id": "HiutP5jSYwpf"
      }
    },
    {
      "cell_type": "code",
      "source": [
        "# 환경셋팅\n",
        "import numpy as np\n",
        "import pandas as pd\n",
        "import matplotlib.pyplot as plt\n",
        "from sklearn.model_selection import train_test_split # 훈련, 테스트 분리하는 도구\n",
        "import tensorflow as tf\n",
        "print(tf.__version__) # 언더바 두개씩(던더), 라이브러리 버전 확인 코드"
      ],
      "metadata": {
        "colab": {
          "base_uri": "https://localhost:8080/"
        },
        "id": "s-8kIX2kaWdV",
        "outputId": "5ce9a345-aa96-4619-d758-2ea87028d0bf"
      },
      "execution_count": 5,
      "outputs": [
        {
          "output_type": "stream",
          "name": "stdout",
          "text": [
            "2.15.0\n"
          ]
        }
      ]
    },
    {
      "cell_type": "code",
      "source": [
        "# 데이터 불러오기\n",
        "# , -> 구분자 = ';'\n",
        "data = pd.read_csv('./data/student-mat.csv', delimiter = ';')\n",
        "\n",
        "# 전체 정보 확인\n",
        "data.info()\n",
        "# 크기\n",
        "# 결측치 확인\n",
        "# 데이터 타입\n",
        "# 특성 이름\n",
        "# studytime 문제(특성1개), G3 답(수치형태 Label)"
      ],
      "metadata": {
        "colab": {
          "base_uri": "https://localhost:8080/"
        },
        "id": "mpMdJ7e2ayZD",
        "outputId": "09531c8c-6833-4667-bacb-7aeb34a56302"
      },
      "execution_count": 6,
      "outputs": [
        {
          "output_type": "stream",
          "name": "stdout",
          "text": [
            "<class 'pandas.core.frame.DataFrame'>\n",
            "RangeIndex: 395 entries, 0 to 394\n",
            "Data columns (total 33 columns):\n",
            " #   Column      Non-Null Count  Dtype \n",
            "---  ------      --------------  ----- \n",
            " 0   school      395 non-null    object\n",
            " 1   sex         395 non-null    object\n",
            " 2   age         395 non-null    int64 \n",
            " 3   address     395 non-null    object\n",
            " 4   famsize     395 non-null    object\n",
            " 5   Pstatus     395 non-null    object\n",
            " 6   Medu        395 non-null    int64 \n",
            " 7   Fedu        395 non-null    int64 \n",
            " 8   Mjob        395 non-null    object\n",
            " 9   Fjob        395 non-null    object\n",
            " 10  reason      395 non-null    object\n",
            " 11  guardian    395 non-null    object\n",
            " 12  traveltime  395 non-null    int64 \n",
            " 13  studytime   395 non-null    int64 \n",
            " 14  failures    395 non-null    int64 \n",
            " 15  schoolsup   395 non-null    object\n",
            " 16  famsup      395 non-null    object\n",
            " 17  paid        395 non-null    object\n",
            " 18  activities  395 non-null    object\n",
            " 19  nursery     395 non-null    object\n",
            " 20  higher      395 non-null    object\n",
            " 21  internet    395 non-null    object\n",
            " 22  romantic    395 non-null    object\n",
            " 23  famrel      395 non-null    int64 \n",
            " 24  freetime    395 non-null    int64 \n",
            " 25  goout       395 non-null    int64 \n",
            " 26  Dalc        395 non-null    int64 \n",
            " 27  Walc        395 non-null    int64 \n",
            " 28  health      395 non-null    int64 \n",
            " 29  absences    395 non-null    int64 \n",
            " 30  G1          395 non-null    int64 \n",
            " 31  G2          395 non-null    int64 \n",
            " 32  G3          395 non-null    int64 \n",
            "dtypes: int64(16), object(17)\n",
            "memory usage: 102.0+ KB\n"
          ]
        }
      ]
    },
    {
      "cell_type": "markdown",
      "source": [
        "#### 데이터 분리\n",
        " - X: 공부시간(1차원), y:G3(1차원) 컬럼 분리\n",
        " - 훈련셋, 테스트셋 분리\n",
        "    - train_test_split()\n",
        "    - 7:3, rd:3\n",
        "    - X_train, X_test, y_train, y_test\n",
        "    - 크기확인"
      ],
      "metadata": {
        "id": "Z4WPJS3cchbw"
      }
    },
    {
      "cell_type": "code",
      "source": [
        "X = data['studytime']\n",
        "y = data['G3']    #data.iloc[:,-1]\n",
        "\n",
        "X.shape, y.shape"
      ],
      "metadata": {
        "colab": {
          "base_uri": "https://localhost:8080/"
        },
        "id": "UfFTcn1Nc7yD",
        "outputId": "ee7979d2-37b6-4dca-ce7e-e71ef146b1d2"
      },
      "execution_count": 7,
      "outputs": [
        {
          "output_type": "execute_result",
          "data": {
            "text/plain": [
              "((395,), (395,))"
            ]
          },
          "metadata": {},
          "execution_count": 7
        }
      ]
    },
    {
      "cell_type": "code",
      "source": [
        "X_train, X_test, y_train, y_test = train_test_split(X, y,\n",
        "                                                    test_size = 0.3 ,\n",
        "                                                    random_state = 3)\n",
        "\n",
        "print('훈련용:', X_train.shape, y_train.shape)\n",
        "print('테스트용:', X_test.shape, y_test.shape)"
      ],
      "metadata": {
        "colab": {
          "base_uri": "https://localhost:8080/"
        },
        "id": "2OfDp5vWefY4",
        "outputId": "50914992-c1f9-48c6-a45a-970b0e102573"
      },
      "execution_count": 8,
      "outputs": [
        {
          "output_type": "stream",
          "name": "stdout",
          "text": [
            "훈련용: (276,) (276,)\n",
            "테스트용: (119,) (119,)\n"
          ]
        }
      ]
    },
    {
      "cell_type": "code",
      "source": [
        "# 데이터 탐색\n",
        "X_train.unique()\n",
        "np.unique(X_train, return_counts= True)"
      ],
      "metadata": {
        "colab": {
          "base_uri": "https://localhost:8080/"
        },
        "id": "t0RuK7zAfJ7n",
        "outputId": "fa0e0382-4f09-4993-e79c-652c06f4e353"
      },
      "execution_count": 14,
      "outputs": [
        {
          "output_type": "execute_result",
          "data": {
            "text/plain": [
              "(array([1, 2, 3, 4]), array([ 76, 142,  41,  17]))"
            ]
          },
          "metadata": {},
          "execution_count": 14
        }
      ]
    },
    {
      "cell_type": "code",
      "source": [
        "y_train.unique()\n",
        "np.unique(y_train, return_counts = True)"
      ],
      "metadata": {
        "colab": {
          "base_uri": "https://localhost:8080/"
        },
        "id": "R2vYJgTofncw",
        "outputId": "5b21f183-c66e-4a51-9664-4623ca445868"
      },
      "execution_count": 15,
      "outputs": [
        {
          "output_type": "execute_result",
          "data": {
            "text/plain": [
              "(array([ 0,  4,  5,  6,  7,  8,  9, 10, 11, 12, 13, 14, 15, 16, 17, 18, 19]),\n",
              " array([26,  1,  5, 11,  8, 23, 20, 44, 28, 19, 23, 18, 23, 10,  3, 10,  4]))"
            ]
          },
          "metadata": {},
          "execution_count": 15
        }
      ]
    },
    {
      "cell_type": "markdown",
      "source": [
        "#### 신경망 모델 생성\n",
        " - 1. 모델 구조 설계\n",
        " - 2. 모델 학습 / 평가 방법 설정: 컴파일\n",
        " - 3. 모델 학습 / 학습 현황 시각화\n",
        " - 4. 모델 예측 / 평가"
      ],
      "metadata": {
        "id": "eEmrmX9lgnG1"
      }
    },
    {
      "cell_type": "code",
      "source": [
        "# 딥러닝 구현 도구 불러오기\n",
        "# tensorflow > keras\n",
        "# 뼈대 구축 도구\n",
        "from tensorflow.keras import Sequential\n",
        "# 층 내용 정의 도구\n",
        "from tensorflow.keras.layers import Dense, Activation\n",
        "# Dense: 신경망층을 구성하는 함수\n",
        "# Activation: 활성화 함수(추상적, 뉴런을 거쳐 나온 y를 변형하는 함수)"
      ],
      "metadata": {
        "id": "JMQjOhQMg7pF"
      },
      "execution_count": 16,
      "outputs": []
    },
    {
      "cell_type": "code",
      "source": [
        "# 1. 모델 구조 설계\n",
        "# 뼈대 구축\n",
        "model = Sequential()\n",
        "\n",
        "# 층 내용 정의\n",
        "# 입력층1 + 중간층1\n",
        "# units : 뉴런(선형모델 y=wx+b) 개수 설정\n",
        "# Activation: 활성화 함수>> 뉴런 뽑힌 값을 해당 함수로 입력하여 출력결과를 다음층으로 전달\n",
        "model.add(Dense(units = 4, input_dim = 1))\n",
        "model.add(Activation('sigmoid'))\n",
        "\n",
        "# model.add(Dense(units = 8))\n",
        "# model.add(Activation('sigmoid'))\n",
        "# model.add(Dense(units = 16))\n",
        "# model.add(Activation('sigmoid'))\n",
        "# model.add(Dense(units = 8))\n",
        "# model.add(Activation('sigmoid'))\n",
        "\n",
        "# 출력층\n",
        "model.add(Dense(units = 1))\n",
        "# model.add(Activation('linear')) # 선형함수, 항등함수, 생략가능\n",
        "\n",
        "# 모델 정보 요약\n",
        "# 모델의 복잡도 파악이 됨\n",
        "model.summary()"
      ],
      "metadata": {
        "colab": {
          "base_uri": "https://localhost:8080/"
        },
        "id": "AGgrjTodlBEp",
        "outputId": "11786f94-4462-4cb9-c7ca-925f40c13c61"
      },
      "execution_count": 19,
      "outputs": [
        {
          "output_type": "stream",
          "name": "stdout",
          "text": [
            "Model: \"sequential_2\"\n",
            "_________________________________________________________________\n",
            " Layer (type)                Output Shape              Param #   \n",
            "=================================================================\n",
            " dense_4 (Dense)             (None, 4)                 8         \n",
            "                                                                 \n",
            " activation_2 (Activation)   (None, 4)                 0         \n",
            "                                                                 \n",
            " dense_5 (Dense)             (None, 1)                 5         \n",
            "                                                                 \n",
            "=================================================================\n",
            "Total params: 13 (52.00 Byte)\n",
            "Trainable params: 13 (52.00 Byte)\n",
            "Non-trainable params: 0 (0.00 Byte)\n",
            "_________________________________________________________________\n"
          ]
        }
      ]
    },
    {
      "cell_type": "code",
      "source": [
        "# 2. 모델 학습/ 평가 방법 설정 (컴파일 compile)\n",
        "# 모델명.compile()\n",
        "# 분류? 회귀?\n",
        "# 회귀 맞춰서 내용 설정\n",
        "# loss(손실함수, cost비용함수) = 회귀에 맞게\n",
        "# optimizer(최적화함수) = 경사하강 종류(sgd 기본적인 공식)\n",
        "# 분류 > metrics(평가지표) = ['accuracy']\n",
        "model.compile(loss = 'mse', # 오차 계산 공식: 평균제곱오차\n",
        "              optimizer = 'sgd') # 경사하강법 종류 중 1: 확률적 경사 하강법\n",
        "                                # 최적의 w,b를 찾기 위한 도구\n",
        ""
      ],
      "metadata": {
        "id": "g93y1qM9nu3t"
      },
      "execution_count": 20,
      "outputs": []
    },
    {
      "cell_type": "code",
      "source": [
        "# 3. 모델 학습(fit) 및 시각화(plt- plot)\n",
        "# 학습 현황 변수에 담을 수 있음 (대입)\n",
        "# 300번 정도 반복 진행\n",
        "h = model.fit(X_train, y_train, epochs = 300)"
      ],
      "metadata": {
        "colab": {
          "base_uri": "https://localhost:8080/"
        },
        "id": "W_yZ6lZPqzYR",
        "outputId": "bee8e68c-3de5-4147-83e8-08e6ff8ca595"
      },
      "execution_count": 21,
      "outputs": [
        {
          "output_type": "stream",
          "name": "stdout",
          "text": [
            "Epoch 1/300\n",
            "9/9 [==============================] - 1s 4ms/step - loss: 90.0698\n",
            "Epoch 2/300\n",
            "9/9 [==============================] - 0s 3ms/step - loss: 40.7463\n",
            "Epoch 3/300\n",
            "9/9 [==============================] - 0s 2ms/step - loss: 24.8238\n",
            "Epoch 4/300\n",
            "9/9 [==============================] - 0s 2ms/step - loss: 21.4636\n",
            "Epoch 5/300\n",
            "9/9 [==============================] - 0s 2ms/step - loss: 20.8187\n",
            "Epoch 6/300\n",
            "9/9 [==============================] - 0s 2ms/step - loss: 20.7350\n",
            "Epoch 7/300\n",
            "9/9 [==============================] - 0s 3ms/step - loss: 20.7226\n",
            "Epoch 8/300\n",
            "9/9 [==============================] - 0s 2ms/step - loss: 20.7127\n",
            "Epoch 9/300\n",
            "9/9 [==============================] - 0s 3ms/step - loss: 20.7287\n",
            "Epoch 10/300\n",
            "9/9 [==============================] - 0s 3ms/step - loss: 20.7115\n",
            "Epoch 11/300\n",
            "9/9 [==============================] - 0s 3ms/step - loss: 20.7433\n",
            "Epoch 12/300\n",
            "9/9 [==============================] - 0s 2ms/step - loss: 20.7123\n",
            "Epoch 13/300\n",
            "9/9 [==============================] - 0s 3ms/step - loss: 20.7714\n",
            "Epoch 14/300\n",
            "9/9 [==============================] - 0s 3ms/step - loss: 20.7410\n",
            "Epoch 15/300\n",
            "9/9 [==============================] - 0s 3ms/step - loss: 20.7012\n",
            "Epoch 16/300\n",
            "9/9 [==============================] - 0s 5ms/step - loss: 20.7571\n",
            "Epoch 17/300\n",
            "9/9 [==============================] - 0s 3ms/step - loss: 20.7329\n",
            "Epoch 18/300\n",
            "9/9 [==============================] - 0s 3ms/step - loss: 20.7383\n",
            "Epoch 19/300\n",
            "9/9 [==============================] - 0s 3ms/step - loss: 20.7416\n",
            "Epoch 20/300\n",
            "9/9 [==============================] - 0s 3ms/step - loss: 20.7095\n",
            "Epoch 21/300\n",
            "9/9 [==============================] - 0s 3ms/step - loss: 20.6884\n",
            "Epoch 22/300\n",
            "9/9 [==============================] - 0s 3ms/step - loss: 20.6937\n",
            "Epoch 23/300\n",
            "9/9 [==============================] - 0s 2ms/step - loss: 20.7397\n",
            "Epoch 24/300\n",
            "9/9 [==============================] - 0s 3ms/step - loss: 20.7513\n",
            "Epoch 25/300\n",
            "9/9 [==============================] - 0s 3ms/step - loss: 20.7252\n",
            "Epoch 26/300\n",
            "9/9 [==============================] - 0s 4ms/step - loss: 20.7427\n",
            "Epoch 27/300\n",
            "9/9 [==============================] - 0s 4ms/step - loss: 20.7246\n",
            "Epoch 28/300\n",
            "9/9 [==============================] - 0s 4ms/step - loss: 20.6985\n",
            "Epoch 29/300\n",
            "9/9 [==============================] - 0s 6ms/step - loss: 20.7152\n",
            "Epoch 30/300\n",
            "9/9 [==============================] - 0s 4ms/step - loss: 20.7472\n",
            "Epoch 31/300\n",
            "9/9 [==============================] - 0s 4ms/step - loss: 20.7368\n",
            "Epoch 32/300\n",
            "9/9 [==============================] - 0s 4ms/step - loss: 20.8281\n",
            "Epoch 33/300\n",
            "9/9 [==============================] - 0s 4ms/step - loss: 20.7556\n",
            "Epoch 34/300\n",
            "9/9 [==============================] - 0s 5ms/step - loss: 20.6954\n",
            "Epoch 35/300\n",
            "9/9 [==============================] - 0s 4ms/step - loss: 20.7258\n",
            "Epoch 36/300\n",
            "9/9 [==============================] - 0s 4ms/step - loss: 20.7461\n",
            "Epoch 37/300\n",
            "9/9 [==============================] - 0s 4ms/step - loss: 20.7212\n",
            "Epoch 38/300\n",
            "9/9 [==============================] - 0s 5ms/step - loss: 20.7472\n",
            "Epoch 39/300\n",
            "9/9 [==============================] - 0s 3ms/step - loss: 20.7238\n",
            "Epoch 40/300\n",
            "9/9 [==============================] - 0s 4ms/step - loss: 20.7230\n",
            "Epoch 41/300\n",
            "9/9 [==============================] - 0s 5ms/step - loss: 20.7500\n",
            "Epoch 42/300\n",
            "9/9 [==============================] - 0s 5ms/step - loss: 20.7444\n",
            "Epoch 43/300\n",
            "9/9 [==============================] - 0s 4ms/step - loss: 20.7163\n",
            "Epoch 44/300\n",
            "9/9 [==============================] - 0s 3ms/step - loss: 20.7072\n",
            "Epoch 45/300\n",
            "9/9 [==============================] - 0s 3ms/step - loss: 20.7029\n",
            "Epoch 46/300\n",
            "9/9 [==============================] - 0s 3ms/step - loss: 20.6988\n",
            "Epoch 47/300\n",
            "9/9 [==============================] - 0s 3ms/step - loss: 20.7514\n",
            "Epoch 48/300\n",
            "9/9 [==============================] - 0s 3ms/step - loss: 20.7528\n",
            "Epoch 49/300\n",
            "9/9 [==============================] - 0s 3ms/step - loss: 20.8332\n",
            "Epoch 50/300\n",
            "9/9 [==============================] - 0s 4ms/step - loss: 20.7145\n",
            "Epoch 51/300\n",
            "9/9 [==============================] - 0s 4ms/step - loss: 20.7098\n",
            "Epoch 52/300\n",
            "9/9 [==============================] - 0s 3ms/step - loss: 20.7398\n",
            "Epoch 53/300\n",
            "9/9 [==============================] - 0s 3ms/step - loss: 20.6836\n",
            "Epoch 54/300\n",
            "9/9 [==============================] - 0s 3ms/step - loss: 20.6864\n",
            "Epoch 55/300\n",
            "9/9 [==============================] - 0s 3ms/step - loss: 20.6945\n",
            "Epoch 56/300\n",
            "9/9 [==============================] - 0s 3ms/step - loss: 20.7135\n",
            "Epoch 57/300\n",
            "9/9 [==============================] - 0s 3ms/step - loss: 20.7135\n",
            "Epoch 58/300\n",
            "9/9 [==============================] - 0s 3ms/step - loss: 20.6971\n",
            "Epoch 59/300\n",
            "9/9 [==============================] - 0s 3ms/step - loss: 20.7187\n",
            "Epoch 60/300\n",
            "9/9 [==============================] - 0s 3ms/step - loss: 20.7174\n",
            "Epoch 61/300\n",
            "9/9 [==============================] - 0s 4ms/step - loss: 20.7321\n",
            "Epoch 62/300\n",
            "9/9 [==============================] - 0s 3ms/step - loss: 20.6841\n",
            "Epoch 63/300\n",
            "9/9 [==============================] - 0s 3ms/step - loss: 20.7189\n",
            "Epoch 64/300\n",
            "9/9 [==============================] - 0s 3ms/step - loss: 20.7122\n",
            "Epoch 65/300\n",
            "9/9 [==============================] - 0s 3ms/step - loss: 20.7285\n",
            "Epoch 66/300\n",
            "9/9 [==============================] - 0s 3ms/step - loss: 20.7160\n",
            "Epoch 67/300\n",
            "9/9 [==============================] - 0s 3ms/step - loss: 20.7032\n",
            "Epoch 68/300\n",
            "9/9 [==============================] - 0s 3ms/step - loss: 20.7362\n",
            "Epoch 69/300\n",
            "9/9 [==============================] - 0s 2ms/step - loss: 20.7032\n",
            "Epoch 70/300\n",
            "9/9 [==============================] - 0s 3ms/step - loss: 20.7262\n",
            "Epoch 71/300\n",
            "9/9 [==============================] - 0s 4ms/step - loss: 20.7088\n",
            "Epoch 72/300\n",
            "9/9 [==============================] - 0s 4ms/step - loss: 20.6908\n",
            "Epoch 73/300\n",
            "9/9 [==============================] - 0s 3ms/step - loss: 20.7256\n",
            "Epoch 74/300\n",
            "9/9 [==============================] - 0s 3ms/step - loss: 20.7161\n",
            "Epoch 75/300\n",
            "9/9 [==============================] - 0s 3ms/step - loss: 20.7619\n",
            "Epoch 76/300\n",
            "9/9 [==============================] - 0s 5ms/step - loss: 20.7143\n",
            "Epoch 77/300\n",
            "9/9 [==============================] - 0s 3ms/step - loss: 20.7137\n",
            "Epoch 78/300\n",
            "9/9 [==============================] - 0s 3ms/step - loss: 20.7660\n",
            "Epoch 79/300\n",
            "9/9 [==============================] - 0s 3ms/step - loss: 20.7051\n",
            "Epoch 80/300\n",
            "9/9 [==============================] - 0s 3ms/step - loss: 20.7023\n",
            "Epoch 81/300\n",
            "9/9 [==============================] - 0s 3ms/step - loss: 20.7038\n",
            "Epoch 82/300\n",
            "9/9 [==============================] - 0s 3ms/step - loss: 20.6959\n",
            "Epoch 83/300\n",
            "9/9 [==============================] - 0s 3ms/step - loss: 20.7586\n",
            "Epoch 84/300\n",
            "9/9 [==============================] - 0s 3ms/step - loss: 20.6789\n",
            "Epoch 85/300\n",
            "9/9 [==============================] - 0s 3ms/step - loss: 20.7348\n",
            "Epoch 86/300\n",
            "9/9 [==============================] - 0s 4ms/step - loss: 20.6805\n",
            "Epoch 87/300\n",
            "9/9 [==============================] - 0s 3ms/step - loss: 20.7014\n",
            "Epoch 88/300\n",
            "9/9 [==============================] - 0s 3ms/step - loss: 20.7285\n",
            "Epoch 89/300\n",
            "9/9 [==============================] - 0s 4ms/step - loss: 20.6759\n",
            "Epoch 90/300\n",
            "9/9 [==============================] - 0s 3ms/step - loss: 20.7200\n",
            "Epoch 91/300\n",
            "9/9 [==============================] - 0s 4ms/step - loss: 20.7670\n",
            "Epoch 92/300\n",
            "9/9 [==============================] - 0s 5ms/step - loss: 20.6998\n",
            "Epoch 93/300\n",
            "9/9 [==============================] - 0s 6ms/step - loss: 20.7273\n",
            "Epoch 94/300\n",
            "9/9 [==============================] - 0s 3ms/step - loss: 20.6898\n",
            "Epoch 95/300\n",
            "9/9 [==============================] - 0s 3ms/step - loss: 20.7178\n",
            "Epoch 96/300\n",
            "9/9 [==============================] - 0s 3ms/step - loss: 20.7436\n",
            "Epoch 97/300\n",
            "9/9 [==============================] - 0s 3ms/step - loss: 20.7313\n",
            "Epoch 98/300\n",
            "9/9 [==============================] - 0s 2ms/step - loss: 20.7122\n",
            "Epoch 99/300\n",
            "9/9 [==============================] - 0s 3ms/step - loss: 20.7118\n",
            "Epoch 100/300\n",
            "9/9 [==============================] - 0s 3ms/step - loss: 20.6837\n",
            "Epoch 101/300\n",
            "9/9 [==============================] - 0s 3ms/step - loss: 20.7172\n",
            "Epoch 102/300\n",
            "9/9 [==============================] - 0s 2ms/step - loss: 20.7208\n",
            "Epoch 103/300\n",
            "9/9 [==============================] - 0s 2ms/step - loss: 20.6840\n",
            "Epoch 104/300\n",
            "9/9 [==============================] - 0s 3ms/step - loss: 20.6862\n",
            "Epoch 105/300\n",
            "9/9 [==============================] - 0s 2ms/step - loss: 20.6745\n",
            "Epoch 106/300\n",
            "9/9 [==============================] - 0s 2ms/step - loss: 20.7258\n",
            "Epoch 107/300\n",
            "9/9 [==============================] - 0s 2ms/step - loss: 20.6816\n",
            "Epoch 108/300\n",
            "9/9 [==============================] - 0s 2ms/step - loss: 20.7138\n",
            "Epoch 109/300\n",
            "9/9 [==============================] - 0s 2ms/step - loss: 20.6863\n",
            "Epoch 110/300\n",
            "9/9 [==============================] - 0s 3ms/step - loss: 20.7241\n",
            "Epoch 111/300\n",
            "9/9 [==============================] - 0s 4ms/step - loss: 20.6780\n",
            "Epoch 112/300\n",
            "9/9 [==============================] - 0s 3ms/step - loss: 20.7138\n",
            "Epoch 113/300\n",
            "9/9 [==============================] - 0s 3ms/step - loss: 20.7144\n",
            "Epoch 114/300\n",
            "9/9 [==============================] - 0s 2ms/step - loss: 20.6740\n",
            "Epoch 115/300\n",
            "9/9 [==============================] - 0s 2ms/step - loss: 20.7183\n",
            "Epoch 116/300\n",
            "9/9 [==============================] - 0s 3ms/step - loss: 20.6573\n",
            "Epoch 117/300\n",
            "9/9 [==============================] - 0s 3ms/step - loss: 20.7307\n",
            "Epoch 118/300\n",
            "9/9 [==============================] - 0s 3ms/step - loss: 20.6649\n",
            "Epoch 119/300\n",
            "9/9 [==============================] - 0s 2ms/step - loss: 20.6790\n",
            "Epoch 120/300\n",
            "9/9 [==============================] - 0s 3ms/step - loss: 20.7112\n",
            "Epoch 121/300\n",
            "9/9 [==============================] - 0s 3ms/step - loss: 20.6758\n",
            "Epoch 122/300\n",
            "9/9 [==============================] - 0s 2ms/step - loss: 20.6914\n",
            "Epoch 123/300\n",
            "9/9 [==============================] - 0s 3ms/step - loss: 20.6876\n",
            "Epoch 124/300\n",
            "9/9 [==============================] - 0s 2ms/step - loss: 20.6840\n",
            "Epoch 125/300\n",
            "9/9 [==============================] - 0s 2ms/step - loss: 20.6773\n",
            "Epoch 126/300\n",
            "9/9 [==============================] - 0s 2ms/step - loss: 20.6937\n",
            "Epoch 127/300\n",
            "9/9 [==============================] - 0s 2ms/step - loss: 20.6620\n",
            "Epoch 128/300\n",
            "9/9 [==============================] - 0s 2ms/step - loss: 20.7274\n",
            "Epoch 129/300\n",
            "9/9 [==============================] - 0s 2ms/step - loss: 20.7082\n",
            "Epoch 130/300\n",
            "9/9 [==============================] - 0s 3ms/step - loss: 20.6897\n",
            "Epoch 131/300\n",
            "9/9 [==============================] - 0s 2ms/step - loss: 20.7343\n",
            "Epoch 132/300\n",
            "9/9 [==============================] - 0s 2ms/step - loss: 20.6906\n",
            "Epoch 133/300\n",
            "9/9 [==============================] - 0s 2ms/step - loss: 20.6878\n",
            "Epoch 134/300\n",
            "9/9 [==============================] - 0s 2ms/step - loss: 20.6770\n",
            "Epoch 135/300\n",
            "9/9 [==============================] - 0s 2ms/step - loss: 20.6640\n",
            "Epoch 136/300\n",
            "9/9 [==============================] - 0s 3ms/step - loss: 20.6730\n",
            "Epoch 137/300\n",
            "9/9 [==============================] - 0s 2ms/step - loss: 20.6741\n",
            "Epoch 138/300\n",
            "9/9 [==============================] - 0s 3ms/step - loss: 20.6753\n",
            "Epoch 139/300\n",
            "9/9 [==============================] - 0s 3ms/step - loss: 20.7034\n",
            "Epoch 140/300\n",
            "9/9 [==============================] - 0s 3ms/step - loss: 20.6589\n",
            "Epoch 141/300\n",
            "9/9 [==============================] - 0s 3ms/step - loss: 20.6965\n",
            "Epoch 142/300\n",
            "9/9 [==============================] - 0s 3ms/step - loss: 20.7143\n",
            "Epoch 143/300\n",
            "9/9 [==============================] - 0s 3ms/step - loss: 20.6936\n",
            "Epoch 144/300\n",
            "9/9 [==============================] - 0s 3ms/step - loss: 20.7201\n",
            "Epoch 145/300\n",
            "9/9 [==============================] - 0s 4ms/step - loss: 20.6847\n",
            "Epoch 146/300\n",
            "9/9 [==============================] - 0s 3ms/step - loss: 20.6725\n",
            "Epoch 147/300\n",
            "9/9 [==============================] - 0s 5ms/step - loss: 20.7099\n",
            "Epoch 148/300\n",
            "9/9 [==============================] - 0s 4ms/step - loss: 20.7475\n",
            "Epoch 149/300\n",
            "9/9 [==============================] - 0s 4ms/step - loss: 20.6801\n",
            "Epoch 150/300\n",
            "9/9 [==============================] - 0s 3ms/step - loss: 20.7171\n",
            "Epoch 151/300\n",
            "9/9 [==============================] - 0s 3ms/step - loss: 20.6653\n",
            "Epoch 152/300\n",
            "9/9 [==============================] - 0s 4ms/step - loss: 20.6608\n",
            "Epoch 153/300\n",
            "9/9 [==============================] - 0s 3ms/step - loss: 20.7157\n",
            "Epoch 154/300\n",
            "9/9 [==============================] - 0s 5ms/step - loss: 20.6626\n",
            "Epoch 155/300\n",
            "9/9 [==============================] - 0s 3ms/step - loss: 20.6830\n",
            "Epoch 156/300\n",
            "9/9 [==============================] - 0s 3ms/step - loss: 20.6607\n",
            "Epoch 157/300\n",
            "9/9 [==============================] - 0s 3ms/step - loss: 20.6696\n",
            "Epoch 158/300\n",
            "9/9 [==============================] - 0s 5ms/step - loss: 20.6610\n",
            "Epoch 159/300\n",
            "9/9 [==============================] - 0s 4ms/step - loss: 20.6526\n",
            "Epoch 160/300\n",
            "9/9 [==============================] - 0s 5ms/step - loss: 20.7026\n",
            "Epoch 161/300\n",
            "9/9 [==============================] - 0s 4ms/step - loss: 20.6846\n",
            "Epoch 162/300\n",
            "9/9 [==============================] - 0s 3ms/step - loss: 20.6596\n",
            "Epoch 163/300\n",
            "9/9 [==============================] - 0s 3ms/step - loss: 20.6521\n",
            "Epoch 164/300\n",
            "9/9 [==============================] - 0s 2ms/step - loss: 20.6697\n",
            "Epoch 165/300\n",
            "9/9 [==============================] - 0s 2ms/step - loss: 20.7030\n",
            "Epoch 166/300\n",
            "9/9 [==============================] - 0s 4ms/step - loss: 20.7106\n",
            "Epoch 167/300\n",
            "9/9 [==============================] - 0s 4ms/step - loss: 20.6786\n",
            "Epoch 168/300\n",
            "9/9 [==============================] - 0s 3ms/step - loss: 20.6511\n",
            "Epoch 169/300\n",
            "9/9 [==============================] - 0s 2ms/step - loss: 20.7278\n",
            "Epoch 170/300\n",
            "9/9 [==============================] - 0s 3ms/step - loss: 20.6562\n",
            "Epoch 171/300\n",
            "9/9 [==============================] - 0s 3ms/step - loss: 20.6721\n",
            "Epoch 172/300\n",
            "9/9 [==============================] - 0s 3ms/step - loss: 20.6554\n",
            "Epoch 173/300\n",
            "9/9 [==============================] - 0s 4ms/step - loss: 20.6622\n",
            "Epoch 174/300\n",
            "9/9 [==============================] - 0s 4ms/step - loss: 20.6625\n",
            "Epoch 175/300\n",
            "9/9 [==============================] - 0s 3ms/step - loss: 20.6896\n",
            "Epoch 176/300\n",
            "9/9 [==============================] - 0s 3ms/step - loss: 20.6652\n",
            "Epoch 177/300\n",
            "9/9 [==============================] - 0s 3ms/step - loss: 20.6573\n",
            "Epoch 178/300\n",
            "9/9 [==============================] - 0s 3ms/step - loss: 20.6379\n",
            "Epoch 179/300\n",
            "9/9 [==============================] - 0s 3ms/step - loss: 20.7304\n",
            "Epoch 180/300\n",
            "9/9 [==============================] - 0s 3ms/step - loss: 20.7146\n",
            "Epoch 181/300\n",
            "9/9 [==============================] - 0s 4ms/step - loss: 20.7107\n",
            "Epoch 182/300\n",
            "9/9 [==============================] - 0s 3ms/step - loss: 20.6634\n",
            "Epoch 183/300\n",
            "9/9 [==============================] - 0s 3ms/step - loss: 20.6701\n",
            "Epoch 184/300\n",
            "9/9 [==============================] - 0s 3ms/step - loss: 20.6965\n",
            "Epoch 185/300\n",
            "9/9 [==============================] - 0s 3ms/step - loss: 20.7805\n",
            "Epoch 186/300\n",
            "9/9 [==============================] - 0s 3ms/step - loss: 20.7204\n",
            "Epoch 187/300\n",
            "9/9 [==============================] - 0s 3ms/step - loss: 20.6549\n",
            "Epoch 188/300\n",
            "9/9 [==============================] - 0s 3ms/step - loss: 20.6518\n",
            "Epoch 189/300\n",
            "9/9 [==============================] - 0s 3ms/step - loss: 20.6955\n",
            "Epoch 190/300\n",
            "9/9 [==============================] - 0s 2ms/step - loss: 20.7366\n",
            "Epoch 191/300\n",
            "9/9 [==============================] - 0s 3ms/step - loss: 20.6790\n",
            "Epoch 192/300\n",
            "9/9 [==============================] - 0s 3ms/step - loss: 20.7167\n",
            "Epoch 193/300\n",
            "9/9 [==============================] - 0s 3ms/step - loss: 20.6517\n",
            "Epoch 194/300\n",
            "9/9 [==============================] - 0s 4ms/step - loss: 20.7067\n",
            "Epoch 195/300\n",
            "9/9 [==============================] - 0s 3ms/step - loss: 20.6577\n",
            "Epoch 196/300\n",
            "9/9 [==============================] - 0s 3ms/step - loss: 20.6914\n",
            "Epoch 197/300\n",
            "9/9 [==============================] - 0s 3ms/step - loss: 20.6446\n",
            "Epoch 198/300\n",
            "9/9 [==============================] - 0s 3ms/step - loss: 20.6797\n",
            "Epoch 199/300\n",
            "9/9 [==============================] - 0s 3ms/step - loss: 20.6534\n",
            "Epoch 200/300\n",
            "9/9 [==============================] - 0s 3ms/step - loss: 20.7054\n",
            "Epoch 201/300\n",
            "9/9 [==============================] - 0s 3ms/step - loss: 20.6340\n",
            "Epoch 202/300\n",
            "9/9 [==============================] - 0s 3ms/step - loss: 20.6481\n",
            "Epoch 203/300\n",
            "9/9 [==============================] - 0s 3ms/step - loss: 20.6512\n",
            "Epoch 204/300\n",
            "9/9 [==============================] - 0s 4ms/step - loss: 20.6445\n",
            "Epoch 205/300\n",
            "9/9 [==============================] - 0s 4ms/step - loss: 20.6372\n",
            "Epoch 206/300\n",
            "9/9 [==============================] - 0s 4ms/step - loss: 20.6659\n",
            "Epoch 207/300\n",
            "9/9 [==============================] - 0s 3ms/step - loss: 20.7133\n",
            "Epoch 208/300\n",
            "9/9 [==============================] - 0s 3ms/step - loss: 20.6776\n",
            "Epoch 209/300\n",
            "9/9 [==============================] - 0s 3ms/step - loss: 20.6348\n",
            "Epoch 210/300\n",
            "9/9 [==============================] - 0s 3ms/step - loss: 20.6609\n",
            "Epoch 211/300\n",
            "9/9 [==============================] - 0s 4ms/step - loss: 20.6685\n",
            "Epoch 212/300\n",
            "9/9 [==============================] - 0s 3ms/step - loss: 20.6496\n",
            "Epoch 213/300\n",
            "9/9 [==============================] - 0s 3ms/step - loss: 20.7327\n",
            "Epoch 214/300\n",
            "9/9 [==============================] - 0s 4ms/step - loss: 20.6547\n",
            "Epoch 215/300\n",
            "9/9 [==============================] - 0s 4ms/step - loss: 20.6756\n",
            "Epoch 216/300\n",
            "9/9 [==============================] - 0s 3ms/step - loss: 20.6724\n",
            "Epoch 217/300\n",
            "9/9 [==============================] - 0s 3ms/step - loss: 20.6694\n",
            "Epoch 218/300\n",
            "9/9 [==============================] - 0s 2ms/step - loss: 20.6501\n",
            "Epoch 219/300\n",
            "9/9 [==============================] - 0s 2ms/step - loss: 20.6788\n",
            "Epoch 220/300\n",
            "9/9 [==============================] - 0s 2ms/step - loss: 20.6628\n",
            "Epoch 221/300\n",
            "9/9 [==============================] - 0s 2ms/step - loss: 20.6429\n",
            "Epoch 222/300\n",
            "9/9 [==============================] - 0s 2ms/step - loss: 20.6623\n",
            "Epoch 223/300\n",
            "9/9 [==============================] - 0s 2ms/step - loss: 20.6249\n",
            "Epoch 224/300\n",
            "9/9 [==============================] - 0s 3ms/step - loss: 20.7223\n",
            "Epoch 225/300\n",
            "9/9 [==============================] - 0s 2ms/step - loss: 20.6749\n",
            "Epoch 226/300\n",
            "9/9 [==============================] - 0s 2ms/step - loss: 20.6362\n",
            "Epoch 227/300\n",
            "9/9 [==============================] - 0s 2ms/step - loss: 20.6436\n",
            "Epoch 228/300\n",
            "9/9 [==============================] - 0s 2ms/step - loss: 20.7431\n",
            "Epoch 229/300\n",
            "9/9 [==============================] - 0s 2ms/step - loss: 20.6931\n",
            "Epoch 230/300\n",
            "9/9 [==============================] - 0s 4ms/step - loss: 20.6559\n",
            "Epoch 231/300\n",
            "9/9 [==============================] - 0s 2ms/step - loss: 20.6708\n",
            "Epoch 232/300\n",
            "9/9 [==============================] - 0s 2ms/step - loss: 20.6671\n",
            "Epoch 233/300\n",
            "9/9 [==============================] - 0s 2ms/step - loss: 20.6923\n",
            "Epoch 234/300\n",
            "9/9 [==============================] - 0s 2ms/step - loss: 20.6510\n",
            "Epoch 235/300\n",
            "9/9 [==============================] - 0s 2ms/step - loss: 20.6409\n",
            "Epoch 236/300\n",
            "9/9 [==============================] - 0s 2ms/step - loss: 20.6404\n",
            "Epoch 237/300\n",
            "9/9 [==============================] - 0s 2ms/step - loss: 20.6347\n",
            "Epoch 238/300\n",
            "9/9 [==============================] - 0s 3ms/step - loss: 20.6865\n",
            "Epoch 239/300\n",
            "9/9 [==============================] - 0s 2ms/step - loss: 20.7035\n",
            "Epoch 240/300\n",
            "9/9 [==============================] - 0s 2ms/step - loss: 20.6447\n",
            "Epoch 241/300\n",
            "9/9 [==============================] - 0s 2ms/step - loss: 20.6405\n",
            "Epoch 242/300\n",
            "9/9 [==============================] - 0s 3ms/step - loss: 20.6627\n",
            "Epoch 243/300\n",
            "9/9 [==============================] - 0s 3ms/step - loss: 20.6448\n",
            "Epoch 244/300\n",
            "9/9 [==============================] - 0s 2ms/step - loss: 20.7111\n",
            "Epoch 245/300\n",
            "9/9 [==============================] - 0s 2ms/step - loss: 20.6513\n",
            "Epoch 246/300\n",
            "9/9 [==============================] - 0s 2ms/step - loss: 20.6292\n",
            "Epoch 247/300\n",
            "9/9 [==============================] - 0s 2ms/step - loss: 20.6441\n",
            "Epoch 248/300\n",
            "9/9 [==============================] - 0s 2ms/step - loss: 20.6496\n",
            "Epoch 249/300\n",
            "9/9 [==============================] - 0s 2ms/step - loss: 20.7325\n",
            "Epoch 250/300\n",
            "9/9 [==============================] - 0s 2ms/step - loss: 20.6629\n",
            "Epoch 251/300\n",
            "9/9 [==============================] - 0s 3ms/step - loss: 20.6245\n",
            "Epoch 252/300\n",
            "9/9 [==============================] - 0s 2ms/step - loss: 20.6726\n",
            "Epoch 253/300\n",
            "9/9 [==============================] - 0s 3ms/step - loss: 20.6230\n",
            "Epoch 254/300\n",
            "9/9 [==============================] - 0s 3ms/step - loss: 20.6517\n",
            "Epoch 255/300\n",
            "9/9 [==============================] - 0s 2ms/step - loss: 20.6317\n",
            "Epoch 256/300\n",
            "9/9 [==============================] - 0s 2ms/step - loss: 20.6355\n",
            "Epoch 257/300\n",
            "9/9 [==============================] - 0s 3ms/step - loss: 20.7663\n",
            "Epoch 258/300\n",
            "9/9 [==============================] - 0s 2ms/step - loss: 20.7269\n",
            "Epoch 259/300\n",
            "9/9 [==============================] - 0s 2ms/step - loss: 20.6785\n",
            "Epoch 260/300\n",
            "9/9 [==============================] - 0s 2ms/step - loss: 20.6171\n",
            "Epoch 261/300\n",
            "9/9 [==============================] - 0s 2ms/step - loss: 20.6872\n",
            "Epoch 262/300\n",
            "9/9 [==============================] - 0s 2ms/step - loss: 20.6499\n",
            "Epoch 263/300\n",
            "9/9 [==============================] - 0s 3ms/step - loss: 20.7353\n",
            "Epoch 264/300\n",
            "9/9 [==============================] - 0s 2ms/step - loss: 20.6177\n",
            "Epoch 265/300\n",
            "9/9 [==============================] - 0s 2ms/step - loss: 20.6812\n",
            "Epoch 266/300\n",
            "9/9 [==============================] - 0s 2ms/step - loss: 20.7643\n",
            "Epoch 267/300\n",
            "9/9 [==============================] - 0s 3ms/step - loss: 20.6567\n",
            "Epoch 268/300\n",
            "9/9 [==============================] - 0s 2ms/step - loss: 20.6416\n",
            "Epoch 269/300\n",
            "9/9 [==============================] - 0s 3ms/step - loss: 20.6532\n",
            "Epoch 270/300\n",
            "9/9 [==============================] - 0s 2ms/step - loss: 20.6280\n",
            "Epoch 271/300\n",
            "9/9 [==============================] - 0s 2ms/step - loss: 20.6279\n",
            "Epoch 272/300\n",
            "9/9 [==============================] - 0s 2ms/step - loss: 20.6856\n",
            "Epoch 273/300\n",
            "9/9 [==============================] - 0s 2ms/step - loss: 20.6272\n",
            "Epoch 274/300\n",
            "9/9 [==============================] - 0s 2ms/step - loss: 20.6382\n",
            "Epoch 275/300\n",
            "9/9 [==============================] - 0s 2ms/step - loss: 20.6778\n",
            "Epoch 276/300\n",
            "9/9 [==============================] - 0s 2ms/step - loss: 20.6771\n",
            "Epoch 277/300\n",
            "9/9 [==============================] - 0s 2ms/step - loss: 20.6397\n",
            "Epoch 278/300\n",
            "9/9 [==============================] - 0s 2ms/step - loss: 20.6429\n",
            "Epoch 279/300\n",
            "9/9 [==============================] - 0s 2ms/step - loss: 20.6672\n",
            "Epoch 280/300\n",
            "9/9 [==============================] - 0s 2ms/step - loss: 20.6921\n",
            "Epoch 281/300\n",
            "9/9 [==============================] - 0s 2ms/step - loss: 20.6574\n",
            "Epoch 282/300\n",
            "9/9 [==============================] - 0s 2ms/step - loss: 20.6328\n",
            "Epoch 283/300\n",
            "9/9 [==============================] - 0s 2ms/step - loss: 20.6454\n",
            "Epoch 284/300\n",
            "9/9 [==============================] - 0s 2ms/step - loss: 20.6599\n",
            "Epoch 285/300\n",
            "9/9 [==============================] - 0s 2ms/step - loss: 20.6188\n",
            "Epoch 286/300\n",
            "9/9 [==============================] - 0s 2ms/step - loss: 20.6622\n",
            "Epoch 287/300\n",
            "9/9 [==============================] - 0s 3ms/step - loss: 20.7049\n",
            "Epoch 288/300\n",
            "9/9 [==============================] - 0s 2ms/step - loss: 20.6492\n",
            "Epoch 289/300\n",
            "9/9 [==============================] - 0s 2ms/step - loss: 20.6088\n",
            "Epoch 290/300\n",
            "9/9 [==============================] - 0s 3ms/step - loss: 20.6553\n",
            "Epoch 291/300\n",
            "9/9 [==============================] - 0s 2ms/step - loss: 20.6254\n",
            "Epoch 292/300\n",
            "9/9 [==============================] - 0s 2ms/step - loss: 20.6278\n",
            "Epoch 293/300\n",
            "9/9 [==============================] - 0s 2ms/step - loss: 20.6121\n",
            "Epoch 294/300\n",
            "9/9 [==============================] - 0s 2ms/step - loss: 20.6219\n",
            "Epoch 295/300\n",
            "9/9 [==============================] - 0s 2ms/step - loss: 20.6268\n",
            "Epoch 296/300\n",
            "9/9 [==============================] - 0s 2ms/step - loss: 20.6295\n",
            "Epoch 297/300\n",
            "9/9 [==============================] - 0s 2ms/step - loss: 20.6851\n",
            "Epoch 298/300\n",
            "9/9 [==============================] - 0s 2ms/step - loss: 20.6132\n",
            "Epoch 299/300\n",
            "9/9 [==============================] - 0s 3ms/step - loss: 20.6355\n",
            "Epoch 300/300\n",
            "9/9 [==============================] - 0s 3ms/step - loss: 20.6620\n"
          ]
        }
      ]
    },
    {
      "cell_type": "code",
      "source": [
        "plt.plot(h.history['loss'], label='model loss')\n",
        "plt.legend()\n",
        "plt.show()\n",
        "\n",
        "# 시작 오차 다른 이유: y=wx+b 안에 w,b값이 초반에는 랜덤하게 셋팅함\n",
        "# 몇번 반복만에 바로 성능이 20이라는 오차를 출력하게 됨 > 빠르게 학습하게됨> 딥러닝 장점\n",
        "# 특성 한개만 있기때문에 성능이 무조건 좋다고 말할 수는 없는 상황\n",
        "# 딥러닝 모델 생성 및 학습 순서\n",
        "# 1. 모델 뼈대 구축 + 층 내용 정의\n",
        "# 2. 학습 / 평가 방법 설정\n",
        "# 3. 학습 + 시각화\n",
        "# 4. 평가 + 예측"
      ],
      "metadata": {
        "colab": {
          "base_uri": "https://localhost:8080/",
          "height": 430
        },
        "id": "eSZNo1xxrdea",
        "outputId": "a8e1fa76-bca5-4a47-a77e-5e63674a1075"
      },
      "execution_count": 24,
      "outputs": [
        {
          "output_type": "display_data",
          "data": {
            "text/plain": [
              "<Figure size 640x480 with 1 Axes>"
            ],
            "image/png": "[encoded data removed]"
          },
          "metadata": {}
        }
      ]
    },
    {
      "cell_type": "code",
      "source": [
        "# 모델 예측\n",
        "# predict\n",
        "model.predict(X_test)[:,0]"
      ],
      "metadata": {
        "colab": {
          "base_uri": "https://localhost:8080/"
        },
        "id": "aGHb13NBtSYx",
        "outputId": "d4baf57c-81b8-4ec2-e17f-af2b25da728f"
      },
      "execution_count": 26,
      "outputs": [
        {
          "output_type": "stream",
          "name": "stdout",
          "text": [
            "4/4 [==============================] - 0s 7ms/step\n"
          ]
        },
        {
          "output_type": "execute_result",
          "data": {
            "text/plain": [
              "array([10.458185, 10.9032  , 10.9032  , 10.458185, 10.9032  ,  9.920056,\n",
              "       10.458185, 11.25907 ,  9.920056,  9.920056,  9.920056, 10.458185,\n",
              "       10.458185, 10.9032  , 11.25907 , 10.9032  , 10.9032  , 10.458185,\n",
              "       10.458185, 10.9032  , 10.458185, 10.458185,  9.920056, 10.458185,\n",
              "        9.920056, 10.458185, 10.458185,  9.920056, 10.458185, 10.9032  ,\n",
              "       11.25907 ,  9.920056, 10.9032  ,  9.920056, 10.9032  , 10.458185,\n",
              "       10.458185,  9.920056, 10.458185, 10.9032  , 10.458185, 10.458185,\n",
              "       10.458185, 10.458185, 10.458185, 11.25907 , 10.9032  ,  9.920056,\n",
              "        9.920056,  9.920056, 10.458185,  9.920056, 10.9032  ,  9.920056,\n",
              "        9.920056, 11.25907 ,  9.920056, 10.458185, 10.458185, 10.9032  ,\n",
              "        9.920056, 10.458185, 10.458185, 10.9032  ,  9.920056, 10.458185,\n",
              "       10.458185, 11.25907 , 10.458185, 10.9032  , 10.458185,  9.920056,\n",
              "       10.458185,  9.920056, 10.458185, 10.458185, 10.458185, 10.458185,\n",
              "       10.458185, 10.458185, 10.458185, 10.458185,  9.920056, 10.458185,\n",
              "        9.920056, 10.9032  ,  9.920056, 10.458185, 10.458185, 10.458185,\n",
              "       10.9032  , 10.9032  , 10.458185, 10.458185,  9.920056, 10.9032  ,\n",
              "       11.25907 , 10.458185, 10.458185, 10.9032  , 11.25907 , 10.458185,\n",
              "        9.920056,  9.920056, 10.458185, 10.458185, 10.458185, 11.25907 ,\n",
              "       10.458185, 10.458185, 10.9032  , 10.458185,  9.920056,  9.920056,\n",
              "       10.9032  , 11.25907 , 10.458185, 10.458185, 10.9032  ],\n",
              "      dtype=float32)"
            ]
          },
          "metadata": {},
          "execution_count": 26
        }
      ]
    },
    {
      "cell_type": "code",
      "source": [
        "# 모델 평가\n",
        "model.evaluate(X_test, y_test)"
      ],
      "metadata": {
        "colab": {
          "base_uri": "https://localhost:8080/"
        },
        "id": "7XJw_ruCt84C",
        "outputId": "99575663-1a5b-4d1c-838d-9622e7582ec3"
      },
      "execution_count": 27,
      "outputs": [
        {
          "output_type": "stream",
          "name": "stdout",
          "text": [
            "4/4 [==============================] - 0s 8ms/step - loss: 21.0902\n"
          ]
        },
        {
          "output_type": "execute_result",
          "data": {
            "text/plain": [
              "21.090229034423828"
            ]
          },
          "metadata": {},
          "execution_count": 27
        }
      ]
    }
  ]
}