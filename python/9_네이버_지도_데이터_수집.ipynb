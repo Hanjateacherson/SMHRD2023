{
  "nbformat": 4,
  "nbformat_minor": 0,
  "metadata": {
    "colab": {
      "provenance": [],
      "authorship_tag": "ABX9TyPjEecz7+YOqWD0Fst12hhd",
      "include_colab_link": true
    },
    "kernelspec": {
      "name": "python3",
      "display_name": "Python 3"
    },
    "language_info": {
      "name": "python"
    }
  },
  "cells": [
    {
      "cell_type": "markdown",
      "metadata": {
        "id": "view-in-github",
        "colab_type": "text"
      },
      "source": [
        "<a href=\"https://colab.research.google.com/github/Hanjateacherson/SMHRD/blob/main/python/9_%EB%84%A4%EC%9D%B4%EB%B2%84_%EC%A7%80%EB%8F%84_%EB%8D%B0%EC%9D%B4%ED%84%B0_%EC%88%98%EC%A7%91.ipynb\" target=\"_parent\"><img src=\"https://colab.research.google.com/assets/colab-badge.svg\" alt=\"Open In Colab\"/></a>"
      ]
    },
    {
      "cell_type": "code",
      "execution_count": null,
      "metadata": {
        "id": "w_0HI9PUL1IH"
      },
      "outputs": [],
      "source": [
        "from selenium import webdriver as wb\n",
        "from selenium.webdriver.common.by import By\n",
        "from selenium.webdriver.common.keys import Keys\n",
        "import time"
      ]
    },
    {
      "cell_type": "code",
      "source": [
        "driver = wb.Chrome()\n",
        "driver.get(\"https://map.naver.com/p?c=15.00,0,0,0,dh\")"
      ],
      "metadata": {
        "id": "V0E7MNi2L59n"
      },
      "execution_count": null,
      "outputs": []
    },
    {
      "cell_type": "code",
      "source": [
        "# 검색창 조회, 동명동 맛집 검색\n",
        "# 검색창의 아이디가 매번 변한다.\n",
        "# 해결책 : 다른 선택자(class, 계층선택자)를 활용 한다\n",
        "search = driver.find_element(By.CSS_SELECTOR,\"input.input_search\")\n",
        "search.send_keys(\"동명동맛집\")\n",
        "search.send_keys(Keys.ENTER)"
      ],
      "metadata": {
        "id": "Md4CJafYL6BW"
      },
      "execution_count": null,
      "outputs": []
    },
    {
      "cell_type": "code",
      "source": [
        "# 가게이름을 수집 , 클릭\n",
        "# 수집과 클릭이 되지 않는 이유는 -> iframe에 감싸져 있기 때문에~\n",
        "title = driver.find_elements(By.CSS_SELECTOR,\"#_pcmap_list_scroll_container > ul > li > div.CHC5F > a > div > div > span.TYaxT\")\n",
        "title[0].click()"
      ],
      "metadata": {
        "id": "HrF1x7DuL6Ev"
      },
      "execution_count": null,
      "outputs": []
    },
    {
      "cell_type": "code",
      "source": [
        "# iframe창으로 데이터를 변경\n",
        "driver.switch_to.frame(\"searchIframe\")"
      ],
      "metadata": {
        "id": "Uf7tJxa9L6Ia"
      },
      "execution_count": null,
      "outputs": []
    },
    {
      "cell_type": "code",
      "source": [
        "# 가게 이름수집\n",
        "# 디테일 정보도 iframe에 감싸져있다.\n",
        "name = driver.find_element(By.CSS_SELECTOR,\"#_title > div > span.Fc1rA\")\n",
        "name.text"
      ],
      "metadata": {
        "id": "3JnTVshhL6Lb"
      },
      "execution_count": null,
      "outputs": []
    },
    {
      "cell_type": "code",
      "source": [
        "# iframe에서 다른 iframe으로 이동이 불가능\n",
        "# 둘은 서로 모르는 관계\n",
        "# 원본에 갔다가 다른 frame으로 이동\n",
        "driver.switch_to.frame(\"entryIframe\")"
      ],
      "metadata": {
        "id": "pz9mKS4oL6O0"
      },
      "execution_count": null,
      "outputs": []
    },
    {
      "cell_type": "code",
      "source": [
        "# 원본으로 돌아가는 방법\n",
        "driver.switch_to.default_content()"
      ],
      "metadata": {
        "id": "yBQaQiRCL6Sf"
      },
      "execution_count": null,
      "outputs": []
    },
    {
      "cell_type": "code",
      "source": [
        "# 코드 정리\n",
        "driver.switch_to.frame(\"searchIframe\")\n",
        "title = driver.find_elements(By.CSS_SELECTOR,\"#_pcmap_list_scroll_container > ul > li > div.CHC5F > a > div > div > span.TYaxT\")\n",
        "title[0].click()\n",
        "driver.switch_to.default_content()\n",
        "driver.switch_to.frame(\"entryIframe\")\n",
        "name = driver.find_element(By.CSS_SELECTOR,\"#_title > div > span.Fc1rA\")\n",
        "name.text\n",
        "driver.switch_to.default_content()\n",
        "driver.switch_to.frame(\"searchIframe\")\n",
        "title = driver.find_elements(By.CSS_SELECTOR,\"#_pcmap_list_scroll_container > ul > li > div.CHC5F > a > div > div > span.TYaxT\")\n",
        "title[1].click()\n",
        "driver.switch_to.default_content()\n",
        "driver.switch_to.frame(\"entryIframe\")\n",
        "name = driver.find_element(By.CSS_SELECTOR,\"#_title > div > span.Fc1rA\")\n",
        "name.text"
      ],
      "metadata": {
        "id": "zWhn_tYsL6WO"
      },
      "execution_count": null,
      "outputs": []
    },
    {
      "cell_type": "markdown",
      "source": [
        "# iframe 이동하는 방법\n",
        "- selenium에서 iframe을 이동할 때, switch_to 이동\n",
        "- 프레임 이동 = switch_to.frame(\"frame의 id\")\n",
        "- 원본 이동 = swtich_to.default_content()\n",
        "- 주의점 ! frame에서 다른 frame으로 이동이 불가능 -> 원본을 거쳐서 이동할 것\n",
        "- selenium을 통해 데이터 수집이 안되는 경우\n",
        "- 1. 선택자 2. iframe 3.화면상에 데이터가 안보이는 경우 (스크롤 움직여서)"
      ],
      "metadata": {
        "id": "yYY9Q2dpMEbY"
      }
    }
  ]
}