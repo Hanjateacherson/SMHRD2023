{
  "nbformat": 4,
  "nbformat_minor": 0,
  "metadata": {
    "colab": {
      "provenance": [],
      "authorship_tag": "ABX9TyMbDsQA2phuARzJMzHgBByJ",
      "include_colab_link": true
    },
    "kernelspec": {
      "name": "python3",
      "display_name": "Python 3"
    },
    "language_info": {
      "name": "python"
    }
  },
  "cells": [
    {
      "cell_type": "markdown",
      "metadata": {
        "id": "view-in-github",
        "colab_type": "text"
      },
      "source": [
        "<a href=\"https://colab.research.google.com/github/Hanjateacherson/SMHRD/blob/main/python/(Flask)%2001_DB%EC%97%B0%EB%8F%99%ED%95%98%EA%B8%B0(jupyter)_%EB%B0%B0%ED%8F%AC.ipynb\" target=\"_parent\"><img src=\"https://colab.research.google.com/assets/colab-badge.svg\" alt=\"Open In Colab\"/></a>"
      ]
    },
    {
      "cell_type": "markdown",
      "source": [
        "# Oracle 설치"
      ],
      "metadata": {
        "id": "YZUcGM5Xe-Yq"
      }
    },
    {
      "cell_type": "markdown",
      "source": [
        "- Oracle 다운로드\n",
        "  - https://www.oracle.com/kr/database/technologies/oracle-database-software-downloads.html\n",
        "  - Download Oracle Database XE for Windows(ZIP) 버튼을 클릭하여 다운로드\n",
        "\n",
        "<center>  \n",
        "<img src=\"https://arome1004.cafe24.com/images/python_db/lecture_image/001_download.png\" width=50%>\n",
        "</center>    \n",
        "\n"
      ],
      "metadata": {
        "id": "u1_NiHGzfDIU"
      }
    },
    {
      "cell_type": "markdown",
      "source": [
        "- Oracle 설치\n",
        "  - 압축을 풀고 setup.exe 파일을 실행하여 설치\n",
        "    - 설치 폴더 설정\n",
        "    - 접속 패스워드 설정\n",
        "    - TNS Listener 허용 (TNSLSNR.exe)\n",
        "      - 한 시스템에 오라클DB가 여러개 설치가 되어있는 경우 외부에서 접속을 하면 TNS Listener는 SID값을 가지고 어느 오라클DB로 접속시킬지 중개하는 역할\n",
        "    - Java(TM) Platform SE binary 액세스 허용\n",
        "<center>  \n",
        "<img src=\"https://arome1004.cafe24.com/images/python_db/lecture_image/001_install01.png\" width=30%><img src=\"https://arome1004.cafe24.com/images/python_db/lecture_image/001_install02.png\" width=30%><img src=\"https://arome1004.cafe24.com/images/python_db/lecture_image/001_install03.png\" width=30%>\n",
        "</center>    \n",
        "<center>  \n",
        "<img src=\"https://arome1004.cafe24.com/images/python_db/lecture_image/001_install04.png\" width=30%><img src=\"https://arome1004.cafe24.com/images/python_db/lecture_image/001_install05.png\" width=30%><img src=\"https://arome1004.cafe24.com/images/python_db/lecture_image/001_install06.png\" width=30%>\n",
        "</center>   \n",
        "<center>  \n",
        "<img src=\"https://arome1004.cafe24.com/images/python_db/lecture_image/001_install07.png\" width=30%><img src=\"https://arome1004.cafe24.com/images/python_db/lecture_image/001_install08.png\" width=30%><img src=\"https://arome1004.cafe24.com/images/python_db/lecture_image/001_install09.png\" width=30%>\n",
        "</center>"
      ],
      "metadata": {
        "id": "uHG-f9TYfHWU"
      }
    },
    {
      "cell_type": "markdown",
      "source": [
        "- CMS창에서 Oracle 실행\n",
        "  - CMD 창에서 sqlplus 명령어를 실행\n",
        "  - user name은 system으로 password는 설치때 설정한 암호를 입력\n",
        "\n",
        "<center>  \n",
        "<img src=\"https://arome1004.cafe24.com/images/python_db/lecture_image/001_execute001.png\" width=50%>\n",
        "</center>    "
      ],
      "metadata": {
        "id": "4B8hL04mfKLi"
      }
    },
    {
      "cell_type": "markdown",
      "source": [
        "- Oracle SQL Developer 다운로드\n",
        "  - https://www.oracle.com/database/sqldeveloper/technologies/download/ 에서 Oracle SQL Developer 다운로드  \n",
        "\n",
        "<center>  \n",
        "<img src=\"https://arome1004.cafe24.com/images/python_db/lecture_image/001_developer001.png\" width=50%>\n",
        "</center>    "
      ],
      "metadata": {
        "id": "FakG96pQfSVZ"
      }
    },
    {
      "cell_type": "markdown",
      "source": [
        "- Oracle SQL Developer의 압축을 풀고 sqldeveloper.exe 실행하여 설치 후 실행\n",
        "\n",
        "<center>  \n",
        "<img src=\"https://arome1004.cafe24.com/images/python_db/lecture_image/001_developer002.png\" width=30%><img src=\"https://arome1004.cafe24.com/images/python_db/lecture_image/001_developer003.png\" width=20%>\n",
        "</center>  "
      ],
      "metadata": {
        "id": "zwRDird9fTK8"
      }
    },
    {
      "cell_type": "markdown",
      "source": [
        "- \\+ 아이콘을 클릭\n",
        "\n",
        "<center>  \n",
        "<img src=\"https://arome1004.cafe24.com/images/python_db/lecture_image/001_developer004.png\" width=50%>\n",
        "</center>\n",
        "\n"
      ],
      "metadata": {
        "id": "a6OTIaeffVAi"
      }
    },
    {
      "cell_type": "markdown",
      "source": [
        "- 접속정보를 입력하고 접속 버튼을 클릭\n",
        "  \n",
        "<center>  \n",
        "<img src=\"https://arome1004.cafe24.com/images/python_db/lecture_image/001_developer005.png\" width=40%>\n",
        "</center>\n",
        "<center>  \n",
        "<img src=\"https://arome1004.cafe24.com/images/python_db/lecture_image/001_developer006.png\" width=40%>\n",
        "</center>"
      ],
      "metadata": {
        "id": "ODSahPU-fX3I"
      }
    },
    {
      "cell_type": "markdown",
      "source": [
        "# Oracle DB에 접속하기"
      ],
      "metadata": {
        "id": "O_6wJL90fYk9"
      }
    },
    {
      "cell_type": "markdown",
      "source": [
        "- Python에서 Oracle Database 에 접속해서 DB 작업을 할 수 있도록 도와주는 라이브러리에 cx_Oracle과 python-oracledb 가 있음\n",
        "\n",
        "- cx_Oracle 라이브러리의 구조\n",
        "  - 반드시 cx_Oracle을 사용하는 파이썬 프로그램이 돌아가는 서버에 Oracle Client가 설치되어 있어야 함\n",
        "\n",
        "<center>  \n",
        "<img src=\"https://arome1004.cafe24.com/images/python_db/lecture_image/001_python-cxoracle_arch.png\" width=40%><br><font size=1>참고 : https://cx-oracle.readthedocs.io</font>\n",
        "</center>\n",
        "\n",
        "- python-oracledb 라이브러리\n",
        "  - cx_Oracle의 업그레이드 버전 : 기능 추가\n",
        "  - 참고 : https://python-oracledb.readthedocs.io/en/latest/user_guide/installation.html\n",
        "  - thin 모드와 thick 모드 지원\n",
        "    - thin 모드 : 서버에 Oracle Client가 없어도 됨\n",
        "      - DB Startup/Stop, TAF기능사용, BFILE Type 지원, 21c JSON Data Type 지원, 2PC 등의 기능을 사용할 수 없음\n",
        "    - thick 모드 : 서버에 Oracle Client가 있어야 됨\n",
        "\n",
        "  - oracledb.init_oracle_client()가 들어가면 thick 모드로 동작\n",
        "  \n",
        "<center>  \n",
        "<img src=\"https://arome1004.cafe24.com/images/python_db/lecture_image/001_python-oracledb-arch.png\" width=40%><br><font size=1>참고 : https://cx-oracle.readthedocs.io</font>\n",
        "</center><br>\n",
        "\n",
        "<center>  \n",
        "<img src=\"https://arome1004.cafe24.com/images/python_db/lecture_image/001_python-oracledb-arch2.png\" width=40%><br><font size=1>참고 : https://cx-oracle.readthedocs.io</font>\n",
        "</center>\n",
        "\n",
        "\n",
        "  \n"
      ],
      "metadata": {
        "id": "lP6SAwctfbkH"
      }
    },
    {
      "cell_type": "markdown",
      "source": [
        "- 라이브러리 설치"
      ],
      "metadata": {
        "id": "TVuLgc0Ffc_h"
      }
    },
    {
      "cell_type": "code",
      "source": [
        "!pip install cx_Oracle"
      ],
      "metadata": {
        "colab": {
          "base_uri": "https://localhost:8080/"
        },
        "id": "361xqhbffAbm",
        "outputId": "033c2471-155a-4404-bc15-3648e12d399b"
      },
      "execution_count": 1,
      "outputs": [
        {
          "output_type": "stream",
          "name": "stdout",
          "text": [
            "Collecting cx_Oracle\n",
            "  Downloading cx_Oracle-8.3.0-cp310-cp310-manylinux_2_5_x86_64.manylinux1_x86_64.manylinux_2_12_x86_64.manylinux2010_x86_64.whl (892 kB)\n",
            "\u001b[2K     \u001b[90m━━━━━━━━━━━━━━━━━━━━━━━━━━━━━━━━━━━━━━━━\u001b[0m \u001b[32m892.6/892.6 kB\u001b[0m \u001b[31m6.2 MB/s\u001b[0m eta \u001b[36m0:00:00\u001b[0m\n",
            "\u001b[?25hInstalling collected packages: cx_Oracle\n",
            "Successfully installed cx_Oracle-8.3.0\n"
          ]
        }
      ]
    },
    {
      "cell_type": "markdown",
      "source": [
        "- 설치오류가 뜨는 경우\n",
        "  - https://visualstudio.microsoft.com/visual-cpp-build-tools/ 에서 Build Tool 다운로드\n",
        "  - Build Tool을 실행\n",
        "  - C++를 사용한 데스크톱 개발을 선택하고 설치 버튼을 클릭하여 설치\n",
        "  \n",
        "  \n",
        "<center>  \n",
        "<img src=\"https://arome1004.cafe24.com/images/python_db/lecture_image/001_buildtool.png\" width=40%>\n",
        "</center>  \n",
        "  \n",
        "<center>  \n",
        "<img src=\"https://arome1004.cafe24.com/images/python_db/lecture_image/001_buildtool_02.png\" width=40%>\n",
        "</center>  \n",
        "\n",
        "<center>  \n",
        "<img src=\"https://arome1004.cafe24.com/images/python_db/lecture_image/001_buildtool_03.png\" width=40%>\n",
        "</center>  \n",
        "    \n",
        "<center>  \n",
        "<img src=\"https://arome1004.cafe24.com/images/python_db/lecture_image/001_buildtool_04.png\" width=80%>\n",
        "</center>      "
      ],
      "metadata": {
        "id": "RwFB6PMRfl28"
      }
    },
    {
      "cell_type": "markdown",
      "source": [
        "- 오라클 접속하기\n",
        "\n",
        "\n"
      ],
      "metadata": {
        "id": "sfML4ue1fpCl"
      }
    },
    {
      "cell_type": "code",
      "source": [
        "#실습\n",
        "import cx_Oracle\n",
        "\n",
        "un = \"service\"\n",
        "pw = \"12345\"\n",
        "\n",
        "dsn = \"172.30.1.8:1521/xe\"\n",
        "\n",
        "try :\n",
        "    conn = cx_Oracle.connect(un,pw,dsn)\n",
        "    print(\"DB연결성공\")\n",
        "# 접속 오류가 뜨는 경우 메세지 출력\n",
        "except cx_Oracle.DatabaseError as e :\n",
        "    print(e)"
      ],
      "metadata": {
        "colab": {
          "base_uri": "https://localhost:8080/"
        },
        "id": "zapx5xvZfoJf",
        "outputId": "9d91e915-e616-44bf-ee0e-97731d2dfb24"
      },
      "execution_count": 2,
      "outputs": [
        {
          "output_type": "stream",
          "name": "stdout",
          "text": [
            "DPI-1047: Cannot locate a 64-bit Oracle Client library: \"libclntsh.so: cannot open shared object file: No such file or directory\". See https://cx-oracle.readthedocs.io/en/latest/user_guide/installation.html for help\n"
          ]
        }
      ]
    },
    {
      "cell_type": "markdown",
      "source": [
        "## DPI-1047: Cannot locate a 64-bit Oracle Client library 오류가 뜨는 경우\n",
        "\n",
        "- Windows\n",
        "  - https://www.oracle.com/database/technologies/instant-client/winx64-64-downloads.html 에서 오라클 클라이언트 라이브러리를 다운로드\n",
        "  - 압축을 해제하고 C/IC21 폴더로 instantclient_xx_xx 폴더를 이동\n",
        "\n",
        "<center>  \n",
        "<img src=\"https://arome1004.cafe24.com/images/python_db/lecture_image/001_python-cxoracle_window.png\" width=50%>\n",
        "</center>  \n",
        "\n",
        "- Linux\n",
        "  - https://www.oracle.com/database/free/get-started/ 에서 오라클 클라이언트 라이브러리를 다운로드\n",
        "   - 설정 : https://docs.oracle.com/en/database/oracle/oracle-database/23/lacli/install-instant-client-using-zip.html#GUID-D3DCB4FB-D3CA-4C25-BE48-3A1FB5A22E84\n",
        "\n",
        "<center>  \n",
        "<img src=\"https://arome1004.cafe24.com/images/python_db/lecture_image/001_python-cxoracle_linux.png\" width=50%>\n",
        "</center>  \n",
        "\n"
      ],
      "metadata": {
        "id": "SisQW9cxp-L-"
      }
    },
    {
      "cell_type": "markdown",
      "source": [
        "- 오라클 instant client 등록"
      ],
      "metadata": {
        "id": "1CrgwPOkqBiF"
      }
    },
    {
      "cell_type": "code",
      "source": [
        "#cx_Oracle.init_oracle_client(lib_dir=r\"C:/IC21/instantclient_21_12\")"
      ],
      "metadata": {
        "id": "bw2WY7QNqH3B"
      },
      "execution_count": 3,
      "outputs": []
    },
    {
      "cell_type": "markdown",
      "source": [
        "\n",
        "\n",
        "# 데이터 입력, 수정, 삭제, 검색\n"
      ],
      "metadata": {
        "id": "2QLxpS0fqCJ2"
      }
    },
    {
      "cell_type": "markdown",
      "source": [
        "- 커서 객체 생성하기\n",
        "    - Cursor객체 : 작성한 query문을 DB 전송하거나 DB의 검색 결과를 가져오는 역할"
      ],
      "metadata": {
        "id": "I63BoBhBqPvg"
      }
    },
    {
      "cell_type": "code",
      "source": [
        "cursor = conn.cursor()"
      ],
      "metadata": {
        "id": "w7-uaUeDfift",
        "colab": {
          "base_uri": "https://localhost:8080/",
          "height": 184
        },
        "outputId": "28083bce-7f26-4ef7-aeb9-438eae00b23a"
      },
      "execution_count": 5,
      "outputs": [
        {
          "output_type": "error",
          "ename": "NameError",
          "evalue": "ignored",
          "traceback": [
            "\u001b[0;31m---------------------------------------------------------------------------\u001b[0m",
            "\u001b[0;31mNameError\u001b[0m                                 Traceback (most recent call last)",
            "\u001b[0;32m<ipython-input-5-4bc25eab5223>\u001b[0m in \u001b[0;36m<cell line: 1>\u001b[0;34m()\u001b[0m\n\u001b[0;32m----> 1\u001b[0;31m \u001b[0mcursor\u001b[0m \u001b[0;34m=\u001b[0m \u001b[0mconn\u001b[0m\u001b[0;34m.\u001b[0m\u001b[0mcursor\u001b[0m\u001b[0;34m(\u001b[0m\u001b[0;34m)\u001b[0m\u001b[0;34m\u001b[0m\u001b[0;34m\u001b[0m\u001b[0m\n\u001b[0m",
            "\u001b[0;31mNameError\u001b[0m: name 'conn' is not defined"
          ]
        }
      ]
    },
    {
      "cell_type": "markdown",
      "source": [
        "- 테이블 생성하기"
      ],
      "metadata": {
        "id": "mLbZHbofqUul"
      }
    },
    {
      "cell_type": "code",
      "source": [
        "query =\"\"\"create table test_tbl (\n",
        "    code varchar(10) primary key,\n",
        "    name varchar(10) not null,\n",
        "    age integer not null)\"\"\"\n",
        "\n",
        "try :\n",
        "    #쿼리문을 DB로 보내 실행\n",
        "    cursor.execute(query)\n",
        "    #실행 확인\n",
        "    conn.commit()\n",
        "except cx_Oracle.DatabaseError as e :\n",
        "    print(e)\n"
      ],
      "metadata": {
        "id": "Q5hi4ahpqY6S"
      },
      "execution_count": null,
      "outputs": []
    },
    {
      "cell_type": "markdown",
      "source": [
        "- 생성한 테이블 목록보기"
      ],
      "metadata": {
        "id": "VydA6ClTqV9V"
      }
    },
    {
      "cell_type": "code",
      "source": [
        "query = \"select * from tabs\"\n",
        "# tabs 전체데이터\n",
        "try :\n",
        "    cursor.execute(query)\n",
        "\n",
        "     # 검색한 결과를 받아온다\n",
        "     # fetchall() : 검색한 전체 데이터를 가져온다\n",
        "    row = cursor.fetchall()\n",
        "\n",
        "    print(row)\n",
        "except cx_Oracle.DatabaseError as e :\n",
        "    print(e)"
      ],
      "metadata": {
        "id": "ir_6bbGfqdEB"
      },
      "execution_count": null,
      "outputs": []
    },
    {
      "cell_type": "markdown",
      "source": [
        "- DB에 데이터 저장하기"
      ],
      "metadata": {
        "id": "XQuASCjUqhFi"
      }
    },
    {
      "cell_type": "code",
      "source": [
        "query = \"insert into test_tbl values ('A100','김유신', 45)\"\n",
        "\n",
        "try :\n",
        "    #쿼리문을 DB로 보내 실행\n",
        "    cursor.execute(query)\n",
        "    #실행 확인\n",
        "    conn.commit()\n",
        "    print(\"데이터저장완료\")\n",
        "except cx_Oracle.DatabaseError as e :\n",
        "    print(e)"
      ],
      "metadata": {
        "id": "yrcpD2i_qgh-"
      },
      "execution_count": null,
      "outputs": []
    },
    {
      "cell_type": "markdown",
      "source": [
        "- 직접 데이터를 입력하여 DB로 저장"
      ],
      "metadata": {
        "id": "EOpRxJamqjvD"
      }
    },
    {
      "cell_type": "code",
      "source": [
        "code = input(\"코드입력: \")\n",
        "name = input(\"이름입력: \")\n",
        "age = int(input(\"나이입력: \"))\n",
        "\n",
        "#입력한 데이터를 딕셔너리로 저장\n",
        "input_data = {\"code\":code, \"name\":name, \"age\":age}\n",
        "\n",
        "# 입력한 데이터가 포함되도록 쿼리문을 생성\n",
        "# 괄호안에 : 키값 형태로 표시\n",
        "query = \"insert into test_tbl values (:code, :name, :age)\"\n",
        "\n",
        "try :\n",
        "    #쿼리문에 입력한 데이터를 할당해서 쿼리문을 완성해서 실행\n",
        "    cursor.execute(query, input_data)\n",
        "    #실행 확인\n",
        "    conn.commit()\n",
        "    print(\"데이터저장완료\")\n",
        "except cx_Oracle.DatabaseError as e :\n",
        "    print(e)\n"
      ],
      "metadata": {
        "id": "qMrNsiH4qlDx"
      },
      "execution_count": null,
      "outputs": []
    },
    {
      "cell_type": "markdown",
      "source": [
        "- 중간 결과를 확인하고자 하는 경우"
      ],
      "metadata": {
        "id": "Z4EKZnl7qmio"
      }
    },
    {
      "cell_type": "code",
      "source": [
        "code = input(\"코드입력: \")\n",
        "name = input(\"이름입력: \")\n",
        "age = int(input(\"나이입력: \"))\n",
        "\n",
        "\n",
        "query = f\"insert into test_tbl values ('{code}', '{name}', {age})\"\n",
        "\n",
        "print(query)\n",
        "\n",
        "try :\n",
        "\n",
        "    cursor.execute(query, input_data)\n",
        "\n",
        "    conn.commit()\n",
        "    print(\"데이터저장완료\")\n",
        "except cx_Oracle.DatabaseError as e :\n",
        "    print(e)"
      ],
      "metadata": {
        "id": "xEcu35HTqnaW"
      },
      "execution_count": null,
      "outputs": []
    },
    {
      "cell_type": "markdown",
      "source": [
        "- DB에서 원하는 테이블의 전체 데이터 가져오기"
      ],
      "metadata": {
        "id": "Je1Xf7q2qpW1"
      }
    },
    {
      "cell_type": "code",
      "source": [
        "query = \"select * from test_tbl\"\n",
        "\n",
        "try :\n",
        "    cursor.execute(query)\n",
        "\n",
        "     # 검색한 결과를 받아온다\n",
        "     # fetchall() : 검색한 전체 데이터를 가져온다\n",
        "    row = cursor.fetchall()\n",
        "\n",
        "    display(row)\n",
        "except cx_Oracle.DatabaseError as e :\n",
        "    print(e)"
      ],
      "metadata": {
        "id": "RHVTYHvAqqb0"
      },
      "execution_count": null,
      "outputs": []
    },
    {
      "cell_type": "markdown",
      "source": [
        "- 결과를 데이터 프레임으로 출력하기"
      ],
      "metadata": {
        "id": "hIn8_RyYqr_U"
      }
    },
    {
      "cell_type": "code",
      "source": [
        "import pandas as pd\n",
        "\n",
        "df = pd.DataFrame(row, columns=[\"코드\", \"이름\", \"나이\"])\n",
        "\n",
        "d"
      ],
      "metadata": {
        "id": "uWyj4nAyqs_M"
      },
      "execution_count": null,
      "outputs": []
    },
    {
      "cell_type": "markdown",
      "source": [
        "- DB에서 원하는 테이블의 데이터를 키워드로 검색하기"
      ],
      "metadata": {
        "id": "l6H5z43GquZc"
      }
    },
    {
      "cell_type": "code",
      "source": [
        "code = input(\"검색할 코드 입력: \")\n",
        "\n",
        "#입력한 데이터를 딕셔너리로 저장\n",
        "input_data = {\"code\":code}\n",
        "\n",
        "# : 앞에 빈 공백을 쓰지 말아 주세요\n",
        "query = \"select * from test_tbl where code=:code\"\n",
        "\n",
        "try :\n",
        "    # 쿼리문에 입력한 데이터를 등록해서 완성\n",
        "    cursor.execute(query, input_data)\n",
        "\n",
        "    #검색한 1개의 데이터만 가져온다\n",
        "    #row = cursor.fetchone()\n",
        "\n",
        "    #검색한 1개의 데이터만 가져온다\n",
        "    row = cursor.fetchall()\n",
        "\n",
        "    print(row)\n",
        "except cx_Oracle.DatabaseError as e :\n",
        "    print(e)"
      ],
      "metadata": {
        "id": "e9BidKLaq9bM"
      },
      "execution_count": null,
      "outputs": []
    },
    {
      "cell_type": "code",
      "source": [
        "df = pd.DataFrame(row, columns=[\"코드\",\"이름\",\"나이\"])\n",
        "df"
      ],
      "metadata": {
        "id": "86lcH70Qq-qj"
      },
      "execution_count": null,
      "outputs": []
    },
    {
      "cell_type": "markdown",
      "source": [
        "- 데이터 변경하기"
      ],
      "metadata": {
        "id": "rl0EkYcTq_6-"
      }
    },
    {
      "cell_type": "code",
      "source": [
        "code = input(\"코드입력: \")\n",
        "name = input(\"이름입력: \")\n",
        "age = int(input(\"나이입력: \"))\n",
        "\n",
        "#입력한 데이터를 딕셔너리로 저장\n",
        "input_data = {\"code\":code, \"name\":name, \"age\":age}\n",
        "\n",
        "# : 앞에 빈 공백을 쓰지 말아 주세요\n",
        "\n",
        "query =\"update test_tbl set name = :name, age = :age where code=:code\"\n",
        "query2 = \"select * from test_tbl\"\n",
        "\n",
        "try :\n",
        "\n",
        "    cursor.execute(query, input_data)\n",
        "\n",
        "    conn.commit()\n",
        "    print(\"데이터변경완료\")\n",
        "\n",
        "    display(row)\n",
        "\n",
        "except cx_Oracle.DatabaseError as e :\n",
        "    print(e)\n",
        "    display(row)"
      ],
      "metadata": {
        "id": "vPj1QyvWrA43"
      },
      "execution_count": null,
      "outputs": []
    },
    {
      "cell_type": "markdown",
      "source": [
        "- 데이터 삭제하기"
      ],
      "metadata": {
        "id": "nUp83LiwrDyL"
      }
    },
    {
      "cell_type": "code",
      "source": [
        "code = input(\"삭제할 코드 입력 : \")\n",
        "\n",
        "input_data = {\"code\":code}\n",
        "\n",
        "query = \"delete from test_tbl where code=:code\"\n",
        "\n",
        "try :\n",
        "    cursor.execute(query, input_data)\n",
        "\n",
        "    # 실행 검증 - cursor객체는 실행을 잘 완료하면 0보다 큰 값을 반환\n",
        "    if cursor.rowcount != 0 :\n",
        "        print(\"데이터 삭제 완료\")\n",
        "    else :\n",
        "        print(\"삭제할 데이터가 없습니다\")\n",
        "\n",
        "    conn.commit()\n",
        "\n",
        "except cx_Oracle.DatabaseError as e :\n",
        "    print(e)"
      ],
      "metadata": {
        "id": "e09ADD7Draof"
      },
      "execution_count": null,
      "outputs": []
    },
    {
      "cell_type": "code",
      "source": [
        "# 삭제 여부 확인\n",
        "import pandas as pd\n",
        "\n",
        "query = \"select * from test_tbl\"\n",
        "\n",
        "try :\n",
        "    cursor.execute(query)\n",
        "    row = cursor.fetchall()\n",
        "\n",
        "    df = pd.DataFrame(row, columns=[\"코드\", \"이름\", \"나이\"])\n",
        "\n",
        "    display(df)\n",
        "except cx_Oracle.DatabaseError as e :\n",
        "    print(e)"
      ],
      "metadata": {
        "id": "okPowgX-rcnV"
      },
      "execution_count": null,
      "outputs": []
    },
    {
      "cell_type": "markdown",
      "source": [
        "- 접속종료"
      ],
      "metadata": {
        "id": "vn7-tEq0reCz"
      }
    },
    {
      "cell_type": "code",
      "source": [
        "# 커서 객체 종료\n",
        "cursor.close()\n",
        "# 연결 객체 종료\n",
        "conn.close()"
      ],
      "metadata": {
        "id": "yMgJX_qYrie5"
      },
      "execution_count": null,
      "outputs": []
    },
    {
      "cell_type": "markdown",
      "source": [
        "# 모듈로 제작하기 - 클래스를 안 배운 경우"
      ],
      "metadata": {
        "id": "tIR37nwPrFNR"
      }
    },
    {
      "cell_type": "code",
      "source": [
        "%%writefile DB_Control.py\n",
        "import cx_Oracle\n",
        "import pandas as pd\n",
        "\n",
        "# DB 연결 함수\n",
        "# uesername : 아이디, password : 암호, dsn : 접속주소\n",
        "def db_conn(username, password, dsn) :\n",
        "    try :\n",
        "        conn = cx_Oracle.connect(username, password, dsn)\n",
        "        cur = conn.cursor()\n",
        "        print(\"DB 접속 성공\")\n",
        "\n",
        "        # 생성한 연결/커서 객체를 반환\n",
        "        return conn, cur\n",
        "    except cx_Oracle.DatabaseError as e:\n",
        "        print(e)\n",
        "\n",
        "# DB 연결 해제 함수\n",
        "# cur : 커서 객체, conn : 연결 객체\n",
        "def db_disconn(conn, cur) :\n",
        "    cur.close()\n",
        "    conn.close()\n",
        "    print(\"DB 연결 해제\")\n",
        "\n",
        "# 데이터 입력 함수\n",
        "# t_name : 테이블 명, input_data : 저장할 데이터의 딕셔너리\n",
        "def insertData(conn, cur, t_name, input_data):\n",
        "    # input_data = {\"code\":code, \"name\":name, \"age\":age}\n",
        "    # 딕셔너리의 키 값을 받아서 query 문을 생성\n",
        "    # 테이블명을 추가\n",
        "    # insert into test_tbl values (\n",
        "    query = f\"insert into {t_name} values (\"\n",
        "\n",
        "    # 각 컬럼명(키값)을 가져와서 배치\n",
        "    # insert into test_tbl values (:code, :name, :age,\n",
        "    for key in input_data.keys() :\n",
        "        query += f\":{key},\"\n",
        "\n",
        "    # 마지막의 컴머 제거\n",
        "    # insert into test_tbl values (:code, :name, :age\n",
        "    query = query.rstrip(\",\")\n",
        "\n",
        "    # 괄호 닫기\n",
        "    # insert into test_tbl values (:code, :name, :age)\n",
        "    query += \")\"\n",
        "\n",
        "    # 딕셔너리 값을 할당해서 쿼리문 실행\n",
        "    try :\n",
        "        cur.execute(query, input_data)\n",
        "\n",
        "        # 실행 검증 - cursor객체는 실행을 잘 완료하면 0보다 큰 값을 반환\n",
        "        if cur.rowcount != 0 :\n",
        "            print(\"데이터 추가 완료\")\n",
        "        else :\n",
        "            print(\"데이터 추가 실패\")\n",
        "\n",
        "        conn.commit()\n",
        "\n",
        "    except cx_Oracle.DatabaseError as e :\n",
        "        print(e)\n",
        "\n",
        "# 전체 데이터 검색 함수\n",
        "def searchAllData(cur, t_name) :\n",
        "    query = f\"select * from {t_name}\"\n",
        "\n",
        "    try :\n",
        "        cur.execute(query)\n",
        "        row = cur.fetchall()\n",
        "\n",
        "        return row\n",
        "    except cx_Oracle.DatabaseError as e :\n",
        "        print(e)\n",
        "\n",
        "# 한개 데이터 검색 함수\n",
        "# s_key : 컬럼명, s_value : 컬럼값 -> code = \"A100\"\n",
        "def searchData(cur, t_name, s_key, s_value) :\n",
        "    query = f\"select * from {t_name} where {s_key}='{s_value}'\"\n",
        "\n",
        "    try :\n",
        "        cur.execute(query)\n",
        "        row = cur.fetchone()\n",
        "\n",
        "        return row\n",
        "    except cx_Oracle.DatabaseError as e :\n",
        "        print(e)\n",
        "\n",
        "# 데이터 수정 함수\n",
        "def updateData(conn, cur, t_name, s_key, s_value, input_data) :\n",
        "    # update arome_tbl set\n",
        "    query = f\"update {t_name} set \"\n",
        "\n",
        "    # update arome_tbl set name=:name,age=:age,\n",
        "    for key in input_data.keys() :\n",
        "        query += f\"{key}=:{key},\"\n",
        "\n",
        "    # update arome_tbl set name=:name,age=:age\n",
        "    query = query.rstrip(\",\")\n",
        "\n",
        "    # update arome_tbl set name=:name,age=:age where code='code값';\n",
        "    query += f\" where {s_key}='{s_value}'\"\n",
        "\n",
        "    try :\n",
        "        cur.execute(query, input_data)\n",
        "        conn.commit()\n",
        "\n",
        "        if cur.rowcount != 0 :\n",
        "            print(\"변경 완료\")\n",
        "        else :\n",
        "            print(\"변경 실패\")\n",
        "    except cx_Oracle.DatabaseError as e :\n",
        "        print(e)\n",
        "\n",
        "# 데이터 삭제 함수\n",
        "def deleteData(conn, cur, t_name, s_key, s_value) :\n",
        "    query = f\"delete from {t_name} where {s_key}='{s_value}'\"\n",
        "\n",
        "    try :\n",
        "        cur.execute(query)\n",
        "        conn.commit()\n",
        "\n",
        "        if cur.rowcount != 0 :\n",
        "            print(\"삭제 완료\")\n",
        "        else :\n",
        "            print(\"삭제 실패\")\n",
        "    except cx_Oracle.DatabaseError as e:\n",
        "        print(e)"
      ],
      "metadata": {
        "id": "9rU5ncEMrFxp"
      },
      "execution_count": null,
      "outputs": []
    },
    {
      "cell_type": "code",
      "source": [
        "# 모듈을 호출해서 DB 연결\n",
        "import DB_Control as dc\n",
        "\n",
        "username = \"test_user_kang\"\n",
        "password = \"test_user_kang\"\n",
        "dsn = \"project-db-campus.smhrd.com:1524/xe\"\n",
        "\n",
        "# 아이디, 암호, 주소를 전송해서 DB 연결\n",
        "conn, cur = dc.db_conn(username, password, dsn)"
      ],
      "metadata": {
        "id": "sNwkJITsrFvn"
      },
      "execution_count": null,
      "outputs": []
    },
    {
      "cell_type": "code",
      "source": [
        "# 데이터 저장\n",
        "code = input(\"코드 입력 : \")\n",
        "name = input(\"이름 입력 : \")\n",
        "age = int(input(\"나이 입력 : \"))\n",
        "\n",
        "input_data = {\"code\":code, \"name\":name, \"age\":age}\n",
        "\n",
        "dc.insertData(conn, cur, \"test_tbl\", input_data)"
      ],
      "metadata": {
        "id": "SrDenMPGrFtL"
      },
      "execution_count": null,
      "outputs": []
    },
    {
      "cell_type": "code",
      "source": [
        "# 전체검색\n",
        "row = dc.searchAllData(cur, \"test_tbl\")\n",
        "\n",
        "row"
      ],
      "metadata": {
        "id": "E7PdAUlFrFq2"
      },
      "execution_count": null,
      "outputs": []
    },
    {
      "cell_type": "code",
      "source": [
        "code = input(\"검색할 코드 입력 : \")\n",
        "\n",
        "row = dc.searchData(cur, \"test_tbl\", \"code\", code)\n",
        "\n",
        "row"
      ],
      "metadata": {
        "id": "HbLjwSPPrFoB"
      },
      "execution_count": null,
      "outputs": []
    },
    {
      "cell_type": "code",
      "source": [
        "# 데이터 갱신\n",
        "code = input(\"변경할 코드 입력 : \")\n",
        "name = input(\"변경할 이름 입력 : \")\n",
        "age = int(input(\"변경할 나이 입력 : \"))\n",
        "\n",
        "input_data = {\"name\":name, \"age\":age}\n",
        "\n",
        "dc.updateData(conn, cur, \"test_tbl\", \"code\", code, input_data)"
      ],
      "metadata": {
        "id": "BzxN6wXwrFlP"
      },
      "execution_count": null,
      "outputs": []
    },
    {
      "cell_type": "code",
      "source": [
        "# 데이터 삭제\n",
        "code = input(\"삭제할 코드 입력 : \")\n",
        "dc.deleteData(conn, cur, \"test_tbl\", \"code\", code)\n",
        "\n",
        "row = dc.searchAllData(cur, \"test_tbl\")\n",
        "print(row)"
      ],
      "metadata": {
        "id": "k2m_MkJRrFh_"
      },
      "execution_count": null,
      "outputs": []
    },
    {
      "cell_type": "code",
      "source": [
        "# 종료\n",
        "dc.db_disconn(conn, cur)"
      ],
      "metadata": {
        "id": "T-Ts-W_YrFe9"
      },
      "execution_count": null,
      "outputs": []
    }
  ]
}