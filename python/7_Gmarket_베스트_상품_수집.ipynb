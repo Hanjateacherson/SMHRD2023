{
  "nbformat": 4,
  "nbformat_minor": 0,
  "metadata": {
    "colab": {
      "provenance": [],
      "authorship_tag": "ABX9TyM0+s5SG3iUBfuyk5k+dYgt",
      "include_colab_link": true
    },
    "kernelspec": {
      "name": "python3",
      "display_name": "Python 3"
    },
    "language_info": {
      "name": "python"
    }
  },
  "cells": [
    {
      "cell_type": "markdown",
      "metadata": {
        "id": "view-in-github",
        "colab_type": "text"
      },
      "source": [
        "<a href=\"https://colab.research.google.com/github/Hanjateacherson/SMHRD/blob/main/python/7_Gmarket_%EB%B2%A0%EC%8A%A4%ED%8A%B8_%EC%83%81%ED%92%88_%EC%88%98%EC%A7%91.ipynb\" target=\"_parent\"><img src=\"https://colab.research.google.com/assets/colab-badge.svg\" alt=\"Open In Colab\"/></a>"
      ]
    },
    {
      "cell_type": "code",
      "execution_count": null,
      "metadata": {
        "colab": {
          "base_uri": "https://localhost:8080/",
          "height": 364
        },
        "id": "R2zvuKRk9Whr",
        "outputId": "0fbee314-35c9-4134-bcba-a3b2941799a2"
      },
      "outputs": [
        {
          "output_type": "error",
          "ename": "ModuleNotFoundError",
          "evalue": "ignored",
          "traceback": [
            "\u001b[0;31m---------------------------------------------------------------------------\u001b[0m",
            "\u001b[0;31mModuleNotFoundError\u001b[0m                       Traceback (most recent call last)",
            "\u001b[0;32m<ipython-input-1-fbd751e91eb1>\u001b[0m in \u001b[0;36m<cell line: 1>\u001b[0;34m()\u001b[0m\n\u001b[0;32m----> 1\u001b[0;31m \u001b[0;32mfrom\u001b[0m \u001b[0mselenium\u001b[0m \u001b[0;32mimport\u001b[0m \u001b[0mwebdriver\u001b[0m \u001b[0;32mas\u001b[0m \u001b[0mwb\u001b[0m\u001b[0;34m\u001b[0m\u001b[0;34m\u001b[0m\u001b[0m\n\u001b[0m\u001b[1;32m      2\u001b[0m \u001b[0;32mfrom\u001b[0m \u001b[0mselenium\u001b[0m\u001b[0;34m.\u001b[0m\u001b[0mwebdriver\u001b[0m\u001b[0;34m.\u001b[0m\u001b[0mcommon\u001b[0m\u001b[0;34m.\u001b[0m\u001b[0mby\u001b[0m \u001b[0;32mimport\u001b[0m \u001b[0mBy\u001b[0m\u001b[0;34m\u001b[0m\u001b[0;34m\u001b[0m\u001b[0m\n\u001b[1;32m      3\u001b[0m \u001b[0;32mimport\u001b[0m \u001b[0mtime\u001b[0m\u001b[0;34m\u001b[0m\u001b[0;34m\u001b[0m\u001b[0m\n",
            "\u001b[0;31mModuleNotFoundError\u001b[0m: No module named 'selenium'",
            "",
            "\u001b[0;31m---------------------------------------------------------------------------\u001b[0;32m\nNOTE: If your import is failing due to a missing package, you can\nmanually install dependencies using either !pip or !apt.\n\nTo view examples of installing some common dependencies, click the\n\"Open Examples\" button below.\n\u001b[0;31m---------------------------------------------------------------------------\u001b[0m\n"
          ],
          "errorDetails": {
            "actions": [
              {
                "action": "open_url",
                "actionText": "Open Examples",
                "url": "/notebooks/snippets/importing_libraries.ipynb"
              }
            ]
          }
        }
      ],
      "source": [
        "from selenium import webdriver as wb\n",
        "from selenium.webdriver.common.by import By\n",
        "import time"
      ]
    },
    {
      "cell_type": "code",
      "source": [
        "driver = wb.Chrome()\n",
        "driver.get(\"https://www.gmarket.co.kr/n/best\")"
      ],
      "metadata": {
        "id": "57QGcTiCCKZI"
      },
      "execution_count": null,
      "outputs": []
    },
    {
      "cell_type": "code",
      "source": [
        "# 1. 클릭할 상품리스트 수집\n",
        "img = driver.find_elements(By.CSS_SELECTOR,\"#gBestWrap > div.best-list > ul > li > div.thumb > a > img\")\n",
        "len(img)"
      ],
      "metadata": {
        "id": "MMlfG4KWCKcP"
      },
      "execution_count": null,
      "outputs": []
    },
    {
      "cell_type": "code",
      "source": [
        "# 2. 첫번째 상품 클릭\n",
        "img[0].click()"
      ],
      "metadata": {
        "id": "LeiOcM_4CKer"
      },
      "execution_count": null,
      "outputs": []
    },
    {
      "cell_type": "code",
      "source": [
        "# 3. 상품명, 가격 수집\n",
        "title = driver.find_element(By.CSS_SELECTOR,\"#itemcase_basic > div > h1\")\n",
        "price = driver.find_element(By.CSS_SELECTOR,\"#itemcase_basic > div > div.price > span.price_innerwrap > strong\")"
      ],
      "metadata": {
        "id": "YSAYfM9pCKkv"
      },
      "execution_count": null,
      "outputs": []
    },
    {
      "cell_type": "code",
      "source": [
        "# 4. 뒤로가기\n",
        "driver.back()"
      ],
      "metadata": {
        "id": "kcZoYMjYCKnx"
      },
      "execution_count": null,
      "outputs": []
    },
    {
      "cell_type": "code",
      "source": [
        "driver = wb.Chrome()\n",
        "driver.get(\"https://www.gmarket.co.kr/n/best\")\n",
        "time.sleep(2)\n",
        "# 5. 반복해서 실행 코드\n",
        "title_list = []\n",
        "price_list = []\n",
        "for i in range(5) :\n",
        "    img = driver.find_elements(By.CSS_SELECTOR,\"#gBestWrap > div.best-list > ul > li > div.thumb > a > img\")\n",
        "    img[i].click()\n",
        "    time.sleep(2)\n",
        "\n",
        "    title = driver.find_element(By.CSS_SELECTOR,\"#itemcase_basic > div > h1\")\n",
        "    try :\n",
        "        price = driver.find_element(By.CSS_SELECTOR,\"#itemcase_basic > div > div.price > span.price_innerwrap.price_innerwrap-coupon > strong\")\n",
        "    except :\n",
        "        price = driver.find_element(By.CSS_SELECTOR,\"#itemcase_basic > div > div.price > span.price_innerwrap > strong\")\n",
        "\n",
        "    title_list.append(title.text)\n",
        "    price_list.append(price.text)\n",
        "    driver.back()\n",
        "    time.sleep(2)\n",
        "\n",
        "driver.close()"
      ],
      "metadata": {
        "id": "2MLJy0u2CKqT"
      },
      "execution_count": null,
      "outputs": []
    },
    {
      "cell_type": "code",
      "source": [
        "price_list"
      ],
      "metadata": {
        "id": "JxBUM0R4CKtb"
      },
      "execution_count": null,
      "outputs": []
    },
    {
      "cell_type": "markdown",
      "source": [
        "# 크롤링 하는 프로세스\n",
        "- 1. 데이터 요청단계 ex) req.get(), driver.get()\n",
        "- 2. 데이터 준비단계 ex) req -> bs만들어주기 / driver -> 데이터 로딩(더보기,스크롤이동)\n",
        "- 3. 데이터 수집단계 ex) select, find_element + 검증 + 데이터 정제(텍스트)\n",
        "- 4. 데이터 활용단계 ex) DF, CSV, HTML, DB 저장\n",
        "* 중요한점 : 사람답게 코딩을 작성해라 -> time.sleep을 적절하게 사용\n",
        "* 반복문을 작성할 때는, 반드시 완벽한 하나의 코드사이클을 작성하고 반복문으로 묶어라"
      ],
      "metadata": {
        "id": "yWsy6hg9CgYL"
      }
    }
  ]
}