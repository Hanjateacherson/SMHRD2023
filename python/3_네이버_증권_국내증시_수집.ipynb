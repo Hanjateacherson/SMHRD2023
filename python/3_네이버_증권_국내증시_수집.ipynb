{
  "nbformat": 4,
  "nbformat_minor": 0,
  "metadata": {
    "colab": {
      "provenance": [],
      "authorship_tag": "ABX9TyOiC1eV9dwtxhXoTPm4msw4",
      "include_colab_link": true
    },
    "kernelspec": {
      "name": "python3",
      "display_name": "Python 3"
    },
    "language_info": {
      "name": "python"
    }
  },
  "cells": [
    {
      "cell_type": "markdown",
      "metadata": {
        "id": "view-in-github",
        "colab_type": "text"
      },
      "source": [
        "<a href=\"https://colab.research.google.com/github/Hanjateacherson/SMHRD/blob/main/python/3_%EB%84%A4%EC%9D%B4%EB%B2%84_%EC%A6%9D%EA%B6%8C_%EA%B5%AD%EB%82%B4%EC%A6%9D%EC%8B%9C_%EC%88%98%EC%A7%91.ipynb\" target=\"_parent\"><img src=\"https://colab.research.google.com/assets/colab-badge.svg\" alt=\"Open In Colab\"/></a>"
      ]
    },
    {
      "cell_type": "code",
      "execution_count": null,
      "metadata": {
        "id": "1_QZ5SV437fK"
      },
      "outputs": [],
      "source": [
        "import requests as req\n",
        "from bs4 import BeautifulSoup as bs"
      ]
    },
    {
      "cell_type": "code",
      "source": [
        "# 1. 조회하고자 하는 사이트를 요청\n",
        "res = req.get(\"https://finance.naver.com/sise/sise_market_sum.naver\")"
      ],
      "metadata": {
        "id": "kUaaaor06Les"
      },
      "execution_count": null,
      "outputs": []
    },
    {
      "cell_type": "code",
      "source": [
        "# 2. 데이터를 HTML로 변환\n",
        "soup = bs(res.text,\"lxml\")"
      ],
      "metadata": {
        "id": "ko2FxBlv6Maw"
      },
      "execution_count": null,
      "outputs": []
    },
    {
      "cell_type": "code",
      "source": [
        "# 3. 특정 요소를 수집\n",
        "title = soup.select(\"a.tltle\")"
      ],
      "metadata": {
        "id": "vuTxP_9q6Mdj"
      },
      "execution_count": null,
      "outputs": []
    },
    {
      "cell_type": "code",
      "source": [
        "# 4. 가격을 수집\n",
        "# -> copyselector를 활용해서 수집\n",
        "# -> 반드시 한개만 가지고 온다, 선택자를 수정 필요!\n",
        "# table같은 경우에는 tr(줄)을 복수개를 가지고와야 여러개의 데이터가 수집\n",
        "price = soup.select(\"#contentarea > div.box_type_l > table.type_2 > tbody > tr > td:nth-child(3)\")"
      ],
      "metadata": {
        "id": "jtGfRny_6MjZ"
      },
      "execution_count": null,
      "outputs": []
    },
    {
      "cell_type": "code",
      "source": [
        "# 5. 순수한 텍스트 정보를 비어있는 리스트에 저장!\n",
        "# -> 사용자가 사용할 데이터는 텍스트 데이터이기 때문에.\n"
      ],
      "metadata": {
        "id": "NzZPmHWT6Mmv"
      },
      "execution_count": null,
      "outputs": []
    }
  ]
}