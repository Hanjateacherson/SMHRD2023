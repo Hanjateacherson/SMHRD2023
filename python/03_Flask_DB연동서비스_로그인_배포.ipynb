{
  "nbformat": 4,
  "nbformat_minor": 0,
  "metadata": {
    "colab": {
      "provenance": [],
      "authorship_tag": "ABX9TyO2Zv06zS+jQsn3G63c5YZK",
      "include_colab_link": true
    },
    "kernelspec": {
      "name": "python3",
      "display_name": "Python 3"
    },
    "language_info": {
      "name": "python"
    }
  },
  "cells": [
    {
      "cell_type": "markdown",
      "metadata": {
        "id": "view-in-github",
        "colab_type": "text"
      },
      "source": [
        "<a href=\"https://colab.research.google.com/github/Hanjateacherson/SMHRD/blob/main/python/03_Flask_DB%EC%97%B0%EB%8F%99%EC%84%9C%EB%B9%84%EC%8A%A4_%EB%A1%9C%EA%B7%B8%EC%9D%B8_%EB%B0%B0%ED%8F%AC.ipynb\" target=\"_parent\"><img src=\"https://colab.research.google.com/assets/colab-badge.svg\" alt=\"Open In Colab\"/></a>"
      ]
    },
    {
      "cell_type": "markdown",
      "source": [
        "# 학습목표\n",
        "\n",
        "- Flask 사용법 학습하기\n",
        "- Flask를 이용한 웹서버 구축하기\n",
        "- Flask를 이용한 DB연동 웹페이지 구축하기"
      ],
      "metadata": {
        "id": "BEHLoJgu6dAB"
      }
    },
    {
      "cell_type": "markdown",
      "source": [
        "# Flask 설치 및 서버 실행하기\n",
        "\n",
        "- 플라스크(Flask)는 파이썬으로 작성된 마이크로 웹 프레임워크의 하나\n",
        "  - 특별한 도구나 라이브러리가 필요 없음\n",
        "  \n",
        "##  flask 설치하기"
      ],
      "metadata": {
        "id": "EfLs3RAG6fMZ"
      }
    },
    {
      "cell_type": "code",
      "execution_count": null,
      "metadata": {
        "id": "3WNWRiit_AJ0"
      },
      "outputs": [],
      "source": [
        "# Flask 설치\n",
        "!pip install flask"
      ]
    },
    {
      "cell_type": "markdown",
      "source": [
        "## flask 서버 실행하기\n",
        "\n",
        "- <font color=red>app = Flask(\\_\\_name\\_\\_)</font> : Flask 객체를 app 변수에 할당\n",
        "- <font color=red>@app.route(\"/\")</font> : Flask에게 어떤 URL이 해당 함수를 실행하는지 알려줌\n",
        "- <font color=red>app.run(host='127.0.0.1', port=5000)</font>\n",
        "  - 서버 IP, 포트 등을 설정하고 서버를 실행\n",
        "  - 브라우저에서 IP와 포트로 서버 접속\n",
        "   \n",
        "<img src=\"https://arome1004.cafe24.com/images/python_db/lecture_image/003_flask01.png\" width=50%>"
      ],
      "metadata": {
        "id": "D3qX5Ky76jD8"
      }
    },
    {
      "cell_type": "code",
      "source": [
        "#실습"
      ],
      "metadata": {
        "id": "dQJWHs326rX6"
      },
      "execution_count": null,
      "outputs": []
    },
    {
      "cell_type": "markdown",
      "source": [
        "## URL를 함수로 연결하기\n",
        "\n",
        "- <font color=red>@app.route(\"/hello\")</font>\n",
        "  - URL에  함수명을 설정\n",
        "  - 브라우저에서 IP와 포트로 서버 접속하고 URL로 함수명을 넘김\n",
        "  \n",
        "<img src=\"https://arome1004.cafe24.com/images/python_db/lecture_image/003_flask02.png\" width=50%>"
      ],
      "metadata": {
        "id": "_3hSJcr96svr"
      }
    },
    {
      "cell_type": "code",
      "source": [
        "### URL을 변수로 사용하기\n",
        "\n",
        "- @app.route(\"/hello/<value>\")\n",
        "  - URL에  value 값을 설정\n",
        "  - 브라우저에서 IP와 포트로 서버 접속하고 URL로 100을 넘김\n",
        "\n",
        "<img src=\"https://arome1004.cafe24.com/images/python_db/lecture_image/003_flask03.png\" width=50%>"
      ],
      "metadata": {
        "id": "_T01TTrg6ufi"
      },
      "execution_count": null,
      "outputs": []
    },
    {
      "cell_type": "code",
      "source": [
        "#실습"
      ],
      "metadata": {
        "id": "NxMtcZzS6vtu"
      },
      "execution_count": null,
      "outputs": []
    },
    {
      "cell_type": "markdown",
      "source": [
        "- 2개 이상의 변수 사용하기\n",
        "\n",
        "<img src=\"https://arome1004.cafe24.com/images/python_db/lecture_image/003_flask03_2.png\" width=50%>"
      ],
      "metadata": {
        "id": "fZE69o1H6xVy"
      }
    },
    {
      "cell_type": "code",
      "source": [
        "#실습"
      ],
      "metadata": {
        "id": "IikoHxKl6y9j"
      },
      "execution_count": null,
      "outputs": []
    },
    {
      "cell_type": "markdown",
      "source": [
        "### html 문서를 반환하기\n",
        "\n",
        "- <font color=red>render_template(\"hello.html\")</font>\n",
        "  - hello.html 문서를 반환\n",
        "\n",
        "- hello.html 파일을 작성하고 templates 폴더를 생성하고 저장\n",
        "- 브라우저에서 IP와 포트로 서버 접속\n",
        "\n",
        "  <img src=\"https://arome1004.cafe24.com/images/opencv/lecture_image/04_flask04.png\" width=50%>  "
      ],
      "metadata": {
        "id": "tfZMfCEs60RB"
      }
    },
    {
      "cell_type": "code",
      "source": [
        "#실습"
      ],
      "metadata": {
        "id": "OSifuPW_61nq"
      },
      "execution_count": null,
      "outputs": []
    },
    {
      "cell_type": "markdown",
      "source": [
        "%%writefile ./templates/hello.html\n",
        "<html>\n",
        "<body>\n",
        "<h1>Hello World !! </h1>\n",
        "</body>\n",
        "</html>"
      ],
      "metadata": {
        "id": "MfF7SVoE627A"
      }
    },
    {
      "cell_type": "code",
      "source": [
        "#실습\n"
      ],
      "metadata": {
        "id": "6FDmERW167ke"
      },
      "execution_count": null,
      "outputs": []
    },
    {
      "cell_type": "markdown",
      "source": [
        "### 이미지가 포함된 문서 반환하기\n",
        "\n",
        "- static 폴더 : 자원을 담아 놓는 폴더\n",
        "- static 폴더에 이미지 폴더를 만들고 출력할 이미지를 저장"
      ],
      "metadata": {
        "id": "21oDH70F620H"
      }
    },
    {
      "cell_type": "code",
      "source": [
        "#실습"
      ],
      "metadata": {
        "id": "6POasGyG7cFV"
      },
      "execution_count": null,
      "outputs": []
    },
    {
      "cell_type": "code",
      "source": [
        "%%writefile ./templates/imgdisp.html\n",
        "<html>\n",
        "<body>\n",
        "<img src=\"{{url_for('static', filename='./butterfly.png')}}\" width=\"50%\">\n",
        "</body>\n",
        "</html>"
      ],
      "metadata": {
        "id": "UFY5IL1A7dNQ"
      },
      "execution_count": null,
      "outputs": []
    },
    {
      "cell_type": "code",
      "source": [
        "#실습"
      ],
      "metadata": {
        "id": "JWEty35C7eiQ"
      },
      "execution_count": null,
      "outputs": []
    },
    {
      "cell_type": "markdown",
      "source": [
        "# 데이터 스트리밍 구현\n",
        "\n",
        "## 구현 방법"
      ],
      "metadata": {
        "id": "HFpfXRpa7g32"
      }
    },
    {
      "cell_type": "code",
      "source": [
        "- yield() 함수 배우기\n",
        "\n",
        "\n",
        "  <img src=\"https://arome1004.cafe24.com/images/opencv/lecture_image/04_yield.png\" width=70%>"
      ],
      "metadata": {
        "id": "5kjGPQsj7ig6"
      },
      "execution_count": null,
      "outputs": []
    },
    {
      "cell_type": "code",
      "source": [
        "#실습"
      ],
      "metadata": {
        "id": "TdSD42B47kjF"
      },
      "execution_count": null,
      "outputs": []
    },
    {
      "cell_type": "code",
      "source": [
        "#실습"
      ],
      "metadata": {
        "id": "MWS2GglH7llj"
      },
      "execution_count": null,
      "outputs": []
    },
    {
      "cell_type": "markdown",
      "source": [
        "- <font color=red>Response(stream_with_context(test()))</font>\n",
        "  - 텍스트 스트리밍 함수 test()를 실행\n",
        "  \n",
        "  <img src=\"https://arome1004.cafe24.com/images/opencv/lecture_image/04_flask05.png\" width=50%>  "
      ],
      "metadata": {
        "id": "ZS5nydPA7nj6"
      }
    },
    {
      "cell_type": "code",
      "source": [
        "#실습"
      ],
      "metadata": {
        "id": "mWkB9Mm07o9v"
      },
      "execution_count": null,
      "outputs": []
    },
    {
      "cell_type": "code",
      "source": [
        "#실습"
      ],
      "metadata": {
        "id": "yXhqJetY7qGY"
      },
      "execution_count": null,
      "outputs": []
    },
    {
      "cell_type": "markdown",
      "source": [
        "# 로그인 페이지 만들기"
      ],
      "metadata": {
        "id": "yI9eQVEa7rmf"
      }
    },
    {
      "cell_type": "markdown",
      "source": [
        "- 테이블 생성하기"
      ],
      "metadata": {
        "id": "mpU2SEDI7uxc"
      }
    },
    {
      "cell_type": "code",
      "source": [
        "#실습"
      ],
      "metadata": {
        "id": "aaZu7CIm7wPk"
      },
      "execution_count": null,
      "outputs": []
    },
    {
      "cell_type": "code",
      "source": [
        "#실습"
      ],
      "metadata": {
        "id": "zRyHJ3ha7xZS"
      },
      "execution_count": null,
      "outputs": []
    },
    {
      "cell_type": "markdown",
      "source": [
        "- 로그인 페이지 만들기"
      ],
      "metadata": {
        "id": "_HbgC0oz70AK"
      }
    },
    {
      "cell_type": "code",
      "source": [
        "%%writefile ./templates/index.html\n",
        "<html>\n",
        "<head>\n",
        "<script>\n",
        "function main() {\n",
        "    document.login.action = \"/main\"\n",
        "}\n",
        "function member() {\n",
        "    document.login.action = \"/member\"\n",
        "}\n",
        "</script>\n",
        "</head>\n",
        "<body>\n",
        "<center>\n",
        "<form method=\"post\" name=\"login\">\n",
        "<table>\n",
        "<tr><td>아이디<td><input type=\"text\" name=\"id\"></tr>\n",
        "<tr><td>패스워드<td><input type=\"text\" name=\"pw\"></tr>\n",
        "<tr align=center><td colspan=2>\n",
        "<input type=\"submit\" value=\"로그인\" onclick=\"main()\"/>\n",
        "<input type=\"submit\" value=\"회원가입\" onclick=\"member()\" /></tr>\n",
        "</table>\n",
        "</form>\n",
        "</center>\n",
        "</body>\n",
        "</html>"
      ],
      "metadata": {
        "id": "mhoc1dgN71ed"
      },
      "execution_count": null,
      "outputs": []
    },
    {
      "cell_type": "code",
      "source": [
        "#실습"
      ],
      "metadata": {
        "id": "zK3v8bhY72ym"
      },
      "execution_count": null,
      "outputs": []
    },
    {
      "cell_type": "markdown",
      "source": [
        "- 회원가입 페이지 만들기"
      ],
      "metadata": {
        "id": "pmw_qqAJ75C6"
      }
    },
    {
      "cell_type": "code",
      "source": [
        "%%writefile ./templates/member.html\n",
        "<html>\n",
        "<body>\n",
        "<center>\n",
        "<form method=\"post\" action=\"member_save\">\n",
        "<table>\n",
        "<tr><td>아이디<td><input type=\"text\" name=\"id\"></tr>\n",
        "<tr><td>패스워드<td><input type=\"text\" name=\"pw\"></tr>\n",
        "<tr><td>이름<td><input type=\"text\" name=\"name\"></tr>\n",
        "<tr align=center><td colspan=2>\n",
        "<input type=\"submit\" value=\"회원가입\" name=\"확인\" /></tr>\n",
        "</table>\n",
        "</form>\n",
        "</center>\n",
        "</body>\n",
        "</html>"
      ],
      "metadata": {
        "id": "OgwzQgc574Ue"
      },
      "execution_count": null,
      "outputs": []
    },
    {
      "cell_type": "code",
      "source": [
        "#실습"
      ],
      "metadata": {
        "id": "pA8wrMqa77T8"
      },
      "execution_count": null,
      "outputs": []
    },
    {
      "cell_type": "code",
      "source": [
        "#실습"
      ],
      "metadata": {
        "id": "MaXmL4QG78ab"
      },
      "execution_count": null,
      "outputs": []
    },
    {
      "cell_type": "markdown",
      "source": [
        "- 로그인 성공 (메인) 페이지 만들기"
      ],
      "metadata": {
        "id": "XhhD5JKX8IJH"
      }
    },
    {
      "cell_type": "code",
      "source": [
        "%%writefile ./templates/main.html\n",
        "<html>\n",
        "<body>\n",
        "<center>\n",
        "<h1><font color=red><b>{{ name }}</b></font>님이 접속하였습니다 ^^</h1>\n",
        "</center>\n",
        "</body>\n",
        "</html>"
      ],
      "metadata": {
        "id": "GmMz6Gmu8JWT"
      },
      "execution_count": null,
      "outputs": []
    },
    {
      "cell_type": "code",
      "source": [
        "#실습"
      ],
      "metadata": {
        "id": "pU1bQ8lE8KpN"
      },
      "execution_count": null,
      "outputs": []
    }
  ]
}