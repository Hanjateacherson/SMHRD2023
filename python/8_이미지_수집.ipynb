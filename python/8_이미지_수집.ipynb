{
  "nbformat": 4,
  "nbformat_minor": 0,
  "metadata": {
    "colab": {
      "provenance": [],
      "authorship_tag": "ABX9TyP5/V5Vw2NRP9qAiLQ2yIr9",
      "include_colab_link": true
    },
    "kernelspec": {
      "name": "python3",
      "display_name": "Python 3"
    },
    "language_info": {
      "name": "python"
    }
  },
  "cells": [
    {
      "cell_type": "markdown",
      "metadata": {
        "id": "view-in-github",
        "colab_type": "text"
      },
      "source": [
        "<a href=\"https://colab.research.google.com/github/Hanjateacherson/SMHRD/blob/main/python/8_%EC%9D%B4%EB%AF%B8%EC%A7%80_%EC%88%98%EC%A7%91.ipynb\" target=\"_parent\"><img src=\"https://colab.research.google.com/assets/colab-badge.svg\" alt=\"Open In Colab\"/></a>"
      ]
    },
    {
      "cell_type": "code",
      "execution_count": null,
      "metadata": {
        "id": "zF6_HAZ2LTwm"
      },
      "outputs": [],
      "source": [
        "from selenium import webdriver as wb\n",
        "from selenium.webdriver.common.by import By\n",
        "from selenium.webdriver.common.keys import Keys\n",
        "import time\n",
        "# 파일 시스템을 위한 라이브러리(폴더,파일을 삭제/생성 할때 사용, 경로를 알아올때)\n",
        "import os\n",
        "# 이미지 파일을 저장해주는 라이브러리 -> 이미지의 경로를 파일로 변환\n",
        "from urllib.request import urlretrieve"
      ]
    },
    {
      "cell_type": "code",
      "source": [
        "# 폴더를 생성\n",
        "# 바탕화면에 이미지라는 폴더가 없으면, 바탕화면에 이미지 폴더를 생성해라!\n",
        "if not os.path.isdir(\"C:/Users/smhrd/Desktop/이미지\") :\n",
        "    os.mkdir(\"C:/Users/smhrd/Desktop/이미지\")"
      ],
      "metadata": {
        "id": "BODpotKlLXj0"
      },
      "execution_count": null,
      "outputs": []
    },
    {
      "cell_type": "code",
      "source": [
        "driver = wb.Chrome()\n",
        "driver.get(\"https://search.naver.com/search.naver?sm=tab_hty.top&where=image&query=%EC%86%90%ED%9D%A5%EB%AF%BC&oquery=%ED%8F%AC%EB%93%9C+%EB%9E%A9%ED%84%B0&tqi=ihWY4wqo1e8ssB3pLdhssssssAG-209005\")"
      ],
      "metadata": {
        "id": "zHpYpDJzLXnK"
      },
      "execution_count": null,
      "outputs": []
    },
    {
      "cell_type": "code",
      "source": [
        "# 이미지 태그를 수집\n",
        "img = driver.find_elements(By.CSS_SELECTOR,\"#main_pack > section.sc_new.sp_nimage._fe_image_viewer_prepend_target > div.api_subject_bx._fe_image_tab_list_root.ani_fadein > div > div > div.image_tile._fe_image_tab_grid > div > div > div > div > img\")"
      ],
      "metadata": {
        "id": "sCZ8dGxcLXp-"
      },
      "execution_count": null,
      "outputs": []
    },
    {
      "cell_type": "code",
      "source": [
        "# 태그의 특정 속성을 수집 get_attribute(\"속성이름\")\n",
        "img[0].get_attribute(\"src\")"
      ],
      "metadata": {
        "id": "ruSn_FaoLXsv"
      },
      "execution_count": null,
      "outputs": []
    },
    {
      "cell_type": "code",
      "source": [
        "# 이미지 src만 저장\n",
        "src = []\n",
        "for i in range(len(img)) :\n",
        "    src.append(img[i].get_attribute(\"src\"))"
      ],
      "metadata": {
        "id": "KC8_Oz1qLXy6"
      },
      "execution_count": null,
      "outputs": []
    },
    {
      "cell_type": "code",
      "source": [
        "# 이미지 src만 저장\n",
        "src = []\n",
        "for i in range(len(img)) :\n",
        "    src.append(img[i].get_attribute(\"src\"))"
      ],
      "metadata": {
        "id": "3eS8nueELX1x"
      },
      "execution_count": null,
      "outputs": []
    }
  ]
}